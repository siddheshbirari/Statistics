{
 "cells": [
  {
   "cell_type": "code",
   "execution_count": 1,
   "metadata": {},
   "outputs": [],
   "source": [
    "import math\n",
    "import statistics\n",
    "import numpy as np\n",
    "import scipy.stats\n",
    "import pandas as pd"
   ]
  },
  {
   "cell_type": "code",
   "execution_count": 3,
   "metadata": {},
   "outputs": [
    {
     "data": {
      "text/plain": [
       "[8.0, 1, 2.5, nan, 4, 28.0]"
      ]
     },
     "execution_count": 3,
     "metadata": {},
     "output_type": "execute_result"
    }
   ],
   "source": [
    "x = [8.0,1,2.5,4,28.0]\n",
    "x_with_nan = [8.0, 1, 2.5, math.nan, 4, 28.0]\n",
    "x_with_nan"
   ]
  },
  {
   "cell_type": "code",
   "execution_count": 4,
   "metadata": {},
   "outputs": [
    {
     "data": {
      "text/plain": [
       "True"
      ]
     },
     "execution_count": 4,
     "metadata": {},
     "output_type": "execute_result"
    }
   ],
   "source": [
    "math.isnan(np.nan)"
   ]
  },
  {
   "cell_type": "code",
   "execution_count": 4,
   "metadata": {},
   "outputs": [],
   "source": [
    "# Array & Series\n",
    "y,y_with_nan = np.array(x), np.array(x_with_nan)\n",
    "z,z_with_nan = pd.Series(x), pd.Series(x_with_nan)"
   ]
  },
  {
   "cell_type": "code",
   "execution_count": 8,
   "metadata": {},
   "outputs": [
    {
     "data": {
      "text/plain": [
       "array([ 8. ,  1. ,  2.5,  nan,  4. , 28. ])"
      ]
     },
     "execution_count": 8,
     "metadata": {},
     "output_type": "execute_result"
    }
   ],
   "source": [
    "y_with_nan"
   ]
  },
  {
   "cell_type": "code",
   "execution_count": 10,
   "metadata": {},
   "outputs": [
    {
     "data": {
      "text/plain": [
       "8.7"
      ]
     },
     "execution_count": 10,
     "metadata": {},
     "output_type": "execute_result"
    }
   ],
   "source": [
    "# Calculate normal mathematical formula\n",
    "mean_ = sum(x) / len(x)\n",
    "mean_"
   ]
  },
  {
   "cell_type": "code",
   "execution_count": 11,
   "metadata": {},
   "outputs": [
    {
     "data": {
      "text/plain": [
       "8.7"
      ]
     },
     "execution_count": 11,
     "metadata": {},
     "output_type": "execute_result"
    }
   ],
   "source": [
    "mean_ = sum(z) / len(z)\n",
    "mean_"
   ]
  },
  {
   "cell_type": "code",
   "execution_count": 12,
   "metadata": {},
   "outputs": [
    {
     "data": {
      "text/plain": [
       "8.7"
      ]
     },
     "execution_count": 12,
     "metadata": {},
     "output_type": "execute_result"
    }
   ],
   "source": [
    "#mean using statistics library. There is also fmean function which is fast mean, alternative to mean in Python 3.8\n",
    "mean_ = statistics.mean(x)\n",
    "mean_"
   ]
  },
  {
   "cell_type": "code",
   "execution_count": 14,
   "metadata": {},
   "outputs": [
    {
     "data": {
      "text/plain": [
       "nan"
      ]
     },
     "execution_count": 14,
     "metadata": {},
     "output_type": "execute_result"
    }
   ],
   "source": [
    "#mean on null values, returns null if we use function\n",
    "mean_ = statistics.mean(x_with_nan)\n",
    "mean_"
   ]
  },
  {
   "cell_type": "code",
   "execution_count": 15,
   "metadata": {},
   "outputs": [
    {
     "data": {
      "text/plain": [
       "nan"
      ]
     },
     "execution_count": 15,
     "metadata": {},
     "output_type": "execute_result"
    }
   ],
   "source": [
    "#mean on null values, returns null if we use maths formula\n",
    "mean_ = sum(x_with_nan) / len(x_with_nan)\n",
    "mean_"
   ]
  },
  {
   "cell_type": "code",
   "execution_count": 17,
   "metadata": {},
   "outputs": [
    {
     "data": {
      "text/plain": [
       "8.7"
      ]
     },
     "execution_count": 17,
     "metadata": {},
     "output_type": "execute_result"
    }
   ],
   "source": [
    "#nanmean in Numpy can be used to calculate mean on null values. It ignores null values\n",
    "mean_ = np.nanmean(x_with_nan)\n",
    "mean_"
   ]
  },
  {
   "cell_type": "code",
   "execution_count": 18,
   "metadata": {},
   "outputs": [
    {
     "data": {
      "text/plain": [
       "8.7"
      ]
     },
     "execution_count": 18,
     "metadata": {},
     "output_type": "execute_result"
    }
   ],
   "source": [
    "# Let's explore operations on Series (Z is our Series object). Series object has methods which you can use\n",
    "mean_ = z.mean()\n",
    "mean_"
   ]
  },
  {
   "cell_type": "code",
   "execution_count": 19,
   "metadata": {},
   "outputs": [
    {
     "data": {
      "text/plain": [
       "8.7"
      ]
     },
     "execution_count": 19,
     "metadata": {},
     "output_type": "execute_result"
    }
   ],
   "source": [
    "#Series object automatically ignores nan values\n",
    "mean_ = z_with_nan.mean()\n",
    "mean_"
   ]
  },
  {
   "cell_type": "code",
   "execution_count": 20,
   "metadata": {},
   "outputs": [
    {
     "data": {
      "text/plain": [
       "4.8"
      ]
     },
     "execution_count": 20,
     "metadata": {},
     "output_type": "execute_result"
    }
   ],
   "source": [
    "#The weighted mean, also called the weighted arithmetic mean or weighted average, is a generalization of the arithmetic mean that enables you to define the relative contribution of each data point to the result.\n",
    "#The weighted mean is very handy when you need the mean of a dataset containing items that occur with given relative frequencies. For example, say that you have a set in which 20% of all items are equal to 2, 50% of the items are equal to 4, and the remaining 30% of the items are equal to 8.\n",
    "0.2 * 2 + 0.5 * 4 + 0.3 * 8"
   ]
  },
  {
   "cell_type": "code",
   "execution_count": 2,
   "metadata": {},
   "outputs": [
    {
     "data": {
      "text/plain": [
       "6.95"
      ]
     },
     "execution_count": 2,
     "metadata": {},
     "output_type": "execute_result"
    }
   ],
   "source": [
    "#weighted mean calculation\n",
    "x = [8.0,1,2.5,4,28.0]\n",
    "w = [0.1, 0.2, 0.3, 0.25, 0.15]\n",
    "wmean = sum(w[i] * x[i] for i in range(len(x))) / sum(w)\n",
    "wmean"
   ]
  },
  {
   "cell_type": "code",
   "execution_count": 6,
   "metadata": {},
   "outputs": [
    {
     "data": {
      "text/plain": [
       "6.95"
      ]
     },
     "execution_count": 6,
     "metadata": {},
     "output_type": "execute_result"
    }
   ],
   "source": [
    "#Weighted mean using Zip function\n",
    "wmean1 = sum (x_ * w_ for (x_,w_) in zip(x,w)) /sum(w)\n",
    "wmean1\n"
   ]
  },
  {
   "cell_type": "code",
   "execution_count": 9,
   "metadata": {},
   "outputs": [
    {
     "data": {
      "text/plain": [
       "6.95"
      ]
     },
     "execution_count": 9,
     "metadata": {},
     "output_type": "execute_result"
    }
   ],
   "source": [
    "#Calculating weighted mean using numpy\n",
    "y,z,w = np.array(x), pd.Series(x),np.array(w)\n",
    "wmean3 = np.average(z,weights = w)\n",
    "wmean3"
   ]
  },
  {
   "cell_type": "code",
   "execution_count": 5,
   "metadata": {},
   "outputs": [
    {
     "data": {
      "text/plain": [
       "2.7613412228796843"
      ]
     },
     "execution_count": 5,
     "metadata": {},
     "output_type": "execute_result"
    }
   ],
   "source": [
    "hmean = len(x) / (sum(1 / item for item in x))\n",
    "hmean"
   ]
  },
  {
   "cell_type": "code",
   "execution_count": 7,
   "metadata": {},
   "outputs": [
    {
     "data": {
      "text/plain": [
       "2.7613412228796843"
      ]
     },
     "execution_count": 7,
     "metadata": {},
     "output_type": "execute_result"
    }
   ],
   "source": [
    "hmean1 = statistics.harmonic_mean(x)\n",
    "hmean1"
   ]
  },
  {
   "cell_type": "code",
   "execution_count": 9,
   "metadata": {},
   "outputs": [
    {
     "data": {
      "text/plain": [
       "nan"
      ]
     },
     "execution_count": 9,
     "metadata": {},
     "output_type": "execute_result"
    }
   ],
   "source": [
    "statistics.harmonic_mean(x_with_nan)"
   ]
  },
  {
   "cell_type": "code",
   "execution_count": 10,
   "metadata": {},
   "outputs": [
    {
     "data": {
      "text/plain": [
       "0"
      ]
     },
     "execution_count": 10,
     "metadata": {},
     "output_type": "execute_result"
    }
   ],
   "source": [
    "statistics.harmonic_mean([1,0,2])"
   ]
  },
  {
   "cell_type": "code",
   "execution_count": 12,
   "metadata": {},
   "outputs": [
    {
     "ename": "StatisticsError",
     "evalue": "harmonic mean does not support negative values",
     "output_type": "error",
     "traceback": [
      "\u001b[1;31m---------------------------------------------------------------------------\u001b[0m",
      "\u001b[1;31mStatisticsError\u001b[0m                           Traceback (most recent call last)",
      "\u001b[1;32m<ipython-input-12-eca849304b7c>\u001b[0m in \u001b[0;36m<module>\u001b[1;34m\u001b[0m\n\u001b[1;32m----> 1\u001b[1;33m \u001b[0mstatistics\u001b[0m\u001b[1;33m.\u001b[0m\u001b[0mharmonic_mean\u001b[0m\u001b[1;33m(\u001b[0m\u001b[1;33m[\u001b[0m\u001b[1;36m1\u001b[0m\u001b[1;33m,\u001b[0m\u001b[1;36m2\u001b[0m\u001b[1;33m,\u001b[0m\u001b[1;33m-\u001b[0m\u001b[1;36m2\u001b[0m\u001b[1;33m]\u001b[0m\u001b[1;33m)\u001b[0m\u001b[1;33m\u001b[0m\u001b[1;33m\u001b[0m\u001b[0m\n\u001b[0m",
      "\u001b[1;32m~\\Anaconda3\\lib\\statistics.py\u001b[0m in \u001b[0;36mharmonic_mean\u001b[1;34m(data)\u001b[0m\n\u001b[0;32m    353\u001b[0m             \u001b[1;32mraise\u001b[0m \u001b[0mTypeError\u001b[0m\u001b[1;33m(\u001b[0m\u001b[1;34m'unsupported type'\u001b[0m\u001b[1;33m)\u001b[0m\u001b[1;33m\u001b[0m\u001b[1;33m\u001b[0m\u001b[0m\n\u001b[0;32m    354\u001b[0m     \u001b[1;32mtry\u001b[0m\u001b[1;33m:\u001b[0m\u001b[1;33m\u001b[0m\u001b[1;33m\u001b[0m\u001b[0m\n\u001b[1;32m--> 355\u001b[1;33m         \u001b[0mT\u001b[0m\u001b[1;33m,\u001b[0m \u001b[0mtotal\u001b[0m\u001b[1;33m,\u001b[0m \u001b[0mcount\u001b[0m \u001b[1;33m=\u001b[0m \u001b[0m_sum\u001b[0m\u001b[1;33m(\u001b[0m\u001b[1;36m1\u001b[0m\u001b[1;33m/\u001b[0m\u001b[0mx\u001b[0m \u001b[1;32mfor\u001b[0m \u001b[0mx\u001b[0m \u001b[1;32min\u001b[0m \u001b[0m_fail_neg\u001b[0m\u001b[1;33m(\u001b[0m\u001b[0mdata\u001b[0m\u001b[1;33m,\u001b[0m \u001b[0merrmsg\u001b[0m\u001b[1;33m)\u001b[0m\u001b[1;33m)\u001b[0m\u001b[1;33m\u001b[0m\u001b[1;33m\u001b[0m\u001b[0m\n\u001b[0m\u001b[0;32m    356\u001b[0m     \u001b[1;32mexcept\u001b[0m \u001b[0mZeroDivisionError\u001b[0m\u001b[1;33m:\u001b[0m\u001b[1;33m\u001b[0m\u001b[1;33m\u001b[0m\u001b[0m\n\u001b[0;32m    357\u001b[0m         \u001b[1;32mreturn\u001b[0m \u001b[1;36m0\u001b[0m\u001b[1;33m\u001b[0m\u001b[1;33m\u001b[0m\u001b[0m\n",
      "\u001b[1;32m~\\Anaconda3\\lib\\statistics.py\u001b[0m in \u001b[0;36m_sum\u001b[1;34m(data, start)\u001b[0m\n\u001b[0;32m    145\u001b[0m     \u001b[1;32mfor\u001b[0m \u001b[0mtyp\u001b[0m\u001b[1;33m,\u001b[0m \u001b[0mvalues\u001b[0m \u001b[1;32min\u001b[0m \u001b[0mgroupby\u001b[0m\u001b[1;33m(\u001b[0m\u001b[0mdata\u001b[0m\u001b[1;33m,\u001b[0m \u001b[0mtype\u001b[0m\u001b[1;33m)\u001b[0m\u001b[1;33m:\u001b[0m\u001b[1;33m\u001b[0m\u001b[1;33m\u001b[0m\u001b[0m\n\u001b[0;32m    146\u001b[0m         \u001b[0mT\u001b[0m \u001b[1;33m=\u001b[0m \u001b[0m_coerce\u001b[0m\u001b[1;33m(\u001b[0m\u001b[0mT\u001b[0m\u001b[1;33m,\u001b[0m \u001b[0mtyp\u001b[0m\u001b[1;33m)\u001b[0m  \u001b[1;31m# or raise TypeError\u001b[0m\u001b[1;33m\u001b[0m\u001b[1;33m\u001b[0m\u001b[0m\n\u001b[1;32m--> 147\u001b[1;33m         \u001b[1;32mfor\u001b[0m \u001b[0mn\u001b[0m\u001b[1;33m,\u001b[0m\u001b[0md\u001b[0m \u001b[1;32min\u001b[0m \u001b[0mmap\u001b[0m\u001b[1;33m(\u001b[0m\u001b[0m_exact_ratio\u001b[0m\u001b[1;33m,\u001b[0m \u001b[0mvalues\u001b[0m\u001b[1;33m)\u001b[0m\u001b[1;33m:\u001b[0m\u001b[1;33m\u001b[0m\u001b[1;33m\u001b[0m\u001b[0m\n\u001b[0m\u001b[0;32m    148\u001b[0m             \u001b[0mcount\u001b[0m \u001b[1;33m+=\u001b[0m \u001b[1;36m1\u001b[0m\u001b[1;33m\u001b[0m\u001b[1;33m\u001b[0m\u001b[0m\n\u001b[0;32m    149\u001b[0m             \u001b[0mpartials\u001b[0m\u001b[1;33m[\u001b[0m\u001b[0md\u001b[0m\u001b[1;33m]\u001b[0m \u001b[1;33m=\u001b[0m \u001b[0mpartials_get\u001b[0m\u001b[1;33m(\u001b[0m\u001b[0md\u001b[0m\u001b[1;33m,\u001b[0m \u001b[1;36m0\u001b[0m\u001b[1;33m)\u001b[0m \u001b[1;33m+\u001b[0m \u001b[0mn\u001b[0m\u001b[1;33m\u001b[0m\u001b[1;33m\u001b[0m\u001b[0m\n",
      "\u001b[1;32m~\\Anaconda3\\lib\\statistics.py\u001b[0m in \u001b[0;36m<genexpr>\u001b[1;34m(.0)\u001b[0m\n\u001b[0;32m    353\u001b[0m             \u001b[1;32mraise\u001b[0m \u001b[0mTypeError\u001b[0m\u001b[1;33m(\u001b[0m\u001b[1;34m'unsupported type'\u001b[0m\u001b[1;33m)\u001b[0m\u001b[1;33m\u001b[0m\u001b[1;33m\u001b[0m\u001b[0m\n\u001b[0;32m    354\u001b[0m     \u001b[1;32mtry\u001b[0m\u001b[1;33m:\u001b[0m\u001b[1;33m\u001b[0m\u001b[1;33m\u001b[0m\u001b[0m\n\u001b[1;32m--> 355\u001b[1;33m         \u001b[0mT\u001b[0m\u001b[1;33m,\u001b[0m \u001b[0mtotal\u001b[0m\u001b[1;33m,\u001b[0m \u001b[0mcount\u001b[0m \u001b[1;33m=\u001b[0m \u001b[0m_sum\u001b[0m\u001b[1;33m(\u001b[0m\u001b[1;36m1\u001b[0m\u001b[1;33m/\u001b[0m\u001b[0mx\u001b[0m \u001b[1;32mfor\u001b[0m \u001b[0mx\u001b[0m \u001b[1;32min\u001b[0m \u001b[0m_fail_neg\u001b[0m\u001b[1;33m(\u001b[0m\u001b[0mdata\u001b[0m\u001b[1;33m,\u001b[0m \u001b[0merrmsg\u001b[0m\u001b[1;33m)\u001b[0m\u001b[1;33m)\u001b[0m\u001b[1;33m\u001b[0m\u001b[1;33m\u001b[0m\u001b[0m\n\u001b[0m\u001b[0;32m    356\u001b[0m     \u001b[1;32mexcept\u001b[0m \u001b[0mZeroDivisionError\u001b[0m\u001b[1;33m:\u001b[0m\u001b[1;33m\u001b[0m\u001b[1;33m\u001b[0m\u001b[0m\n\u001b[0;32m    357\u001b[0m         \u001b[1;32mreturn\u001b[0m \u001b[1;36m0\u001b[0m\u001b[1;33m\u001b[0m\u001b[1;33m\u001b[0m\u001b[0m\n",
      "\u001b[1;32m~\\Anaconda3\\lib\\statistics.py\u001b[0m in \u001b[0;36m_fail_neg\u001b[1;34m(values, errmsg)\u001b[0m\n\u001b[0;32m    282\u001b[0m     \u001b[1;32mfor\u001b[0m \u001b[0mx\u001b[0m \u001b[1;32min\u001b[0m \u001b[0mvalues\u001b[0m\u001b[1;33m:\u001b[0m\u001b[1;33m\u001b[0m\u001b[1;33m\u001b[0m\u001b[0m\n\u001b[0;32m    283\u001b[0m         \u001b[1;32mif\u001b[0m \u001b[0mx\u001b[0m \u001b[1;33m<\u001b[0m \u001b[1;36m0\u001b[0m\u001b[1;33m:\u001b[0m\u001b[1;33m\u001b[0m\u001b[1;33m\u001b[0m\u001b[0m\n\u001b[1;32m--> 284\u001b[1;33m             \u001b[1;32mraise\u001b[0m \u001b[0mStatisticsError\u001b[0m\u001b[1;33m(\u001b[0m\u001b[0merrmsg\u001b[0m\u001b[1;33m)\u001b[0m\u001b[1;33m\u001b[0m\u001b[1;33m\u001b[0m\u001b[0m\n\u001b[0m\u001b[0;32m    285\u001b[0m         \u001b[1;32myield\u001b[0m \u001b[0mx\u001b[0m\u001b[1;33m\u001b[0m\u001b[1;33m\u001b[0m\u001b[0m\n\u001b[0;32m    286\u001b[0m \u001b[1;33m\u001b[0m\u001b[0m\n",
      "\u001b[1;31mStatisticsError\u001b[0m: harmonic mean does not support negative values"
     ]
    }
   ],
   "source": [
    "# gives error when negative values are being passed.\n",
    "statistics.harmonic_mean([1,2,-2]) "
   ]
  },
  {
   "cell_type": "code",
   "execution_count": 16,
   "metadata": {},
   "outputs": [
    {
     "data": {
      "text/plain": [
       "2.7613412228796843"
      ]
     },
     "execution_count": 16,
     "metadata": {},
     "output_type": "execute_result"
    }
   ],
   "source": [
    "#helps to find multiplicative or divisor relationships between fractions without worrying about common denominators.\n",
    "scipy.stats.hmean(y)"
   ]
  },
  {
   "cell_type": "code",
   "execution_count": 17,
   "metadata": {},
   "outputs": [
    {
     "data": {
      "text/plain": [
       "2.7613412228796843"
      ]
     },
     "execution_count": 17,
     "metadata": {},
     "output_type": "execute_result"
    }
   ],
   "source": [
    "scipy.stats.hmean(z)"
   ]
  },
  {
   "cell_type": "code",
   "execution_count": 21,
   "metadata": {},
   "outputs": [
    {
     "data": {
      "text/plain": [
       "4.67788567485604"
      ]
     },
     "execution_count": 21,
     "metadata": {},
     "output_type": "execute_result"
    }
   ],
   "source": [
    "# Geometric mean - The geometric mean is used in finance to calculate average growth rates\n",
    "gmean = scipy.stats.gmean(x)\n",
    "gmean"
   ]
  },
  {
   "cell_type": "code",
   "execution_count": 24,
   "metadata": {},
   "outputs": [
    {
     "name": "stdout",
     "output_type": "stream",
     "text": [
      "#The main difference between the behavior of the mean and median is related to dataset outliers or extremes. The mean is heavily affected by outliers, but the median only depends on outliers either slightly or not at all.\n"
     ]
    }
   ],
   "source": [
    "print(\"#The main difference between the behavior of the mean and median is related to dataset outliers or extremes. The mean is heavily affected by outliers, but the median only depends on outliers either slightly or not at all.\")"
   ]
  },
  {
   "cell_type": "code",
   "execution_count": 25,
   "metadata": {},
   "outputs": [
    {
     "name": "stdout",
     "output_type": "stream",
     "text": [
      "You can compare the mean and median as one way to detect outliers and asymmetry in your data. Whether the mean value or the median value is more useful to you depends on the context of your particular problem.\n"
     ]
    }
   ],
   "source": [
    "print(\"You can compare the mean and median as one way to detect outliers and asymmetry in your data. Whether the mean value or the median value is more useful to you depends on the context of your particular problem.\")"
   ]
  },
  {
   "cell_type": "code",
   "execution_count": 30,
   "metadata": {},
   "outputs": [
    {
     "name": "stdout",
     "output_type": "stream",
     "text": [
      "The mean may not be a fair representation of the data, because the average is easily influenced by outliers (very small or large values in the data set that are not typical). ... The median is another way to measure the center of a numerical data set.\n"
     ]
    },
    {
     "data": {
      "text/plain": [
       "4"
      ]
     },
     "execution_count": 30,
     "metadata": {},
     "output_type": "execute_result"
    }
   ],
   "source": [
    "median_ = statistics.median(x)\n",
    "median_\n",
    "print (\"The mean may not be a fair representation of the data, because the average is easily influenced by outliers (very small or large values in the data set that are not typical). ... The median is another way to measure the center of a numerical data set.\")\n",
    "median_"
   ]
  },
  {
   "cell_type": "code",
   "execution_count": 28,
   "metadata": {},
   "outputs": [
    {
     "data": {
      "text/plain": [
       "[8.0, 1, 2.5, 4, 28.0]"
      ]
     },
     "execution_count": 28,
     "metadata": {},
     "output_type": "execute_result"
    }
   ],
   "source": [
    "x"
   ]
  },
  {
   "cell_type": "code",
   "execution_count": 38,
   "metadata": {},
   "outputs": [
    {
     "data": {
      "text/plain": [
       "[8.0, 1, 2.5]"
      ]
     },
     "execution_count": 38,
     "metadata": {},
     "output_type": "execute_result"
    }
   ],
   "source": [
    "x[:3]"
   ]
  },
  {
   "cell_type": "code",
   "execution_count": 40,
   "metadata": {},
   "outputs": [
    {
     "data": {
      "text/plain": [
       "2.5"
      ]
     },
     "execution_count": 40,
     "metadata": {},
     "output_type": "execute_result"
    }
   ],
   "source": [
    "median_ = statistics.median(x[:3])\n",
    "median_"
   ]
  },
  {
   "cell_type": "markdown",
   "metadata": {},
   "source": [
    "print (\"median_low() and median_high() are two more functions related to the median in the Python statistics library. They always return an element from the dataset:\n",
    "\n",
    "If the number of elements is odd, then there’s a single middle value, so these functions behave just like median().\n",
    "If the number of elements is even, then there are two middle values. In this case, median_low() returns the lower and median_high() the higher middle value.\");"
   ]
  },
  {
   "cell_type": "code",
   "execution_count": 42,
   "metadata": {},
   "outputs": [
    {
     "name": "stdout",
     "output_type": "stream",
     "text": [
      "median_low() and median_high() are two more functions related to the median in the Python statistics library. They always return an element from the dataset:\n",
      "If the number of elements is odd, then there’s a single middle value, so these functions behave just like median().\n",
      "If the number of elements is even, then there are two middle values. In this case, median_low() returns the lower and median_high() the higher middle value.\n"
     ]
    }
   ],
   "source": [
    "print (\"\"\"median_low() and median_high() are two more functions related to the median in the Python statistics library. They always return an element from the dataset:\n",
    "If the number of elements is odd, then there’s a single middle value, so these functions behave just like median().\n",
    "If the number of elements is even, then there are two middle values. In this case, median_low() returns the lower and median_high() the higher middle value.\"\"\")"
   ]
  },
  {
   "cell_type": "code",
   "execution_count": 43,
   "metadata": {},
   "outputs": [
    {
     "data": {
      "text/plain": [
       "[8.0, 1, 2.5, 4]"
      ]
     },
     "execution_count": 43,
     "metadata": {},
     "output_type": "execute_result"
    }
   ],
   "source": [
    "x[:-1]"
   ]
  },
  {
   "cell_type": "code",
   "execution_count": 44,
   "metadata": {},
   "outputs": [
    {
     "data": {
      "text/plain": [
       "2.5"
      ]
     },
     "execution_count": 44,
     "metadata": {},
     "output_type": "execute_result"
    }
   ],
   "source": [
    "statistics.median_low(x[:-1])"
   ]
  },
  {
   "cell_type": "code",
   "execution_count": 45,
   "metadata": {},
   "outputs": [
    {
     "data": {
      "text/plain": [
       "4"
      ]
     },
     "execution_count": 45,
     "metadata": {},
     "output_type": "execute_result"
    }
   ],
   "source": [
    "statistics.median_high(x[:-1])"
   ]
  },
  {
   "cell_type": "code",
   "execution_count": 46,
   "metadata": {},
   "outputs": [
    {
     "name": "stdout",
     "output_type": "stream",
     "text": [
      "Unlike most other functions from the Python statistics library, median(), median_low(), and median_high() don’t return nan when there are nan values among the data points:\n"
     ]
    }
   ],
   "source": [
    "print (\"\"\"Unlike most other functions from the Python statistics library, median(), median_low(), and median_high() don’t return nan when there are nan values among the data points:\"\"\")"
   ]
  },
  {
   "cell_type": "code",
   "execution_count": 47,
   "metadata": {},
   "outputs": [
    {
     "data": {
      "text/plain": [
       "6.0"
      ]
     },
     "execution_count": 47,
     "metadata": {},
     "output_type": "execute_result"
    }
   ],
   "source": [
    "statistics.median(x_with_nan)"
   ]
  },
  {
   "cell_type": "code",
   "execution_count": 48,
   "metadata": {},
   "outputs": [
    {
     "data": {
      "text/plain": [
       "4"
      ]
     },
     "execution_count": 48,
     "metadata": {},
     "output_type": "execute_result"
    }
   ],
   "source": [
    "statistics.median_low(x_with_nan)"
   ]
  },
  {
   "cell_type": "code",
   "execution_count": 49,
   "metadata": {},
   "outputs": [
    {
     "data": {
      "text/plain": [
       "8.0"
      ]
     },
     "execution_count": 49,
     "metadata": {},
     "output_type": "execute_result"
    }
   ],
   "source": [
    "statistics.median_high(x_with_nan)"
   ]
  },
  {
   "cell_type": "code",
   "execution_count": 51,
   "metadata": {},
   "outputs": [
    {
     "data": {
      "text/plain": [
       "4.0"
      ]
     },
     "execution_count": 51,
     "metadata": {},
     "output_type": "execute_result"
    }
   ],
   "source": [
    "median_ = np.median(x)\n",
    "median_"
   ]
  },
  {
   "cell_type": "code",
   "execution_count": 52,
   "metadata": {},
   "outputs": [
    {
     "name": "stdout",
     "output_type": "stream",
     "text": [
      "However, if there’s a nan value in your dataset, then np.median() issues the RuntimeWarning and returns nan. If this behavior is not what you want, then you can use nanmedian() to ignore all nan values:\n"
     ]
    }
   ],
   "source": [
    "print(\"\"\"However, if there’s a nan value in your dataset, then np.median() issues the RuntimeWarning and returns nan. If this behavior is not what you want, then you can use nanmedian() to ignore all nan values:\"\"\")"
   ]
  },
  {
   "cell_type": "code",
   "execution_count": 53,
   "metadata": {},
   "outputs": [
    {
     "data": {
      "text/plain": [
       "4.0"
      ]
     },
     "execution_count": 53,
     "metadata": {},
     "output_type": "execute_result"
    }
   ],
   "source": [
    "np.nanmedian(y_with_nan)"
   ]
  },
  {
   "cell_type": "code",
   "execution_count": 54,
   "metadata": {},
   "outputs": [
    {
     "data": {
      "text/plain": [
       "8.0"
      ]
     },
     "execution_count": 54,
     "metadata": {},
     "output_type": "execute_result"
    }
   ],
   "source": [
    "np.nanmedian(y_with_nan[:1])"
   ]
  },
  {
   "cell_type": "code",
   "execution_count": 58,
   "metadata": {},
   "outputs": [
    {
     "name": "stdout",
     "output_type": "stream",
     "text": [
      "Pandas Series objects have the method .median() that ignores nan values by default:\n",
      "\n",
      "The behavior of .median() is consistent with .mean() in Pandas. You can change this behavior with the optional parameter skipna.\n"
     ]
    },
    {
     "data": {
      "text/plain": [
       "4.0"
      ]
     },
     "execution_count": 58,
     "metadata": {},
     "output_type": "execute_result"
    }
   ],
   "source": [
    "print(\"Pandas Series objects have the method .median() that ignores nan values by default:\")\n",
    "print(\"\\nThe behavior of .median() is consistent with .mean() in Pandas. You can change this behavior with the optional parameter skipna.\")\n",
    "z.median()"
   ]
  },
  {
   "cell_type": "code",
   "execution_count": 56,
   "metadata": {},
   "outputs": [
    {
     "data": {
      "text/plain": [
       "4.0"
      ]
     },
     "execution_count": 56,
     "metadata": {},
     "output_type": "execute_result"
    }
   ],
   "source": [
    "z_with_nan.median()"
   ]
  },
  {
   "cell_type": "code",
   "execution_count": 59,
   "metadata": {},
   "outputs": [],
   "source": [
    "u = [2,3,2,8,12]"
   ]
  },
  {
   "cell_type": "code",
   "execution_count": 62,
   "metadata": {},
   "outputs": [
    {
     "data": {
      "text/plain": [
       "2"
      ]
     },
     "execution_count": 62,
     "metadata": {},
     "output_type": "execute_result"
    }
   ],
   "source": [
    "mode_ = max((u.count(item), item) for item in set(u))[1]\n",
    "mode_"
   ]
  },
  {
   "cell_type": "code",
   "execution_count": 64,
   "metadata": {},
   "outputs": [
    {
     "data": {
      "text/plain": [
       "2"
      ]
     },
     "execution_count": 64,
     "metadata": {},
     "output_type": "execute_result"
    }
   ],
   "source": [
    "mode_ = statistics.mode(u)\n",
    "mode_"
   ]
  },
  {
   "cell_type": "code",
   "execution_count": 67,
   "metadata": {},
   "outputs": [],
   "source": [
    "v = [12, 15, 12, 15, 21, 15, 12]"
   ]
  },
  {
   "cell_type": "code",
   "execution_count": 69,
   "metadata": {},
   "outputs": [
    {
     "ename": "AttributeError",
     "evalue": "module 'statistics' has no attribute 'multimode'",
     "output_type": "error",
     "traceback": [
      "\u001b[1;31m---------------------------------------------------------------------------\u001b[0m",
      "\u001b[1;31mAttributeError\u001b[0m                            Traceback (most recent call last)",
      "\u001b[1;32m<ipython-input-69-772a32ad2d2c>\u001b[0m in \u001b[0;36m<module>\u001b[1;34m\u001b[0m\n\u001b[1;32m----> 1\u001b[1;33m \u001b[0mstatistics\u001b[0m\u001b[1;33m.\u001b[0m\u001b[0mmultimode\u001b[0m\u001b[1;33m(\u001b[0m\u001b[0mv\u001b[0m\u001b[1;33m)\u001b[0m\u001b[1;33m\u001b[0m\u001b[1;33m\u001b[0m\u001b[0m\n\u001b[0m",
      "\u001b[1;31mAttributeError\u001b[0m: module 'statistics' has no attribute 'multimode'"
     ]
    }
   ],
   "source": [
    "statistics.multimode(v)"
   ]
  },
  {
   "cell_type": "code",
   "execution_count": 71,
   "metadata": {},
   "outputs": [
    {
     "data": {
      "text/plain": [
       "5"
      ]
     },
     "execution_count": 71,
     "metadata": {},
     "output_type": "execute_result"
    }
   ],
   "source": [
    "n = len(x)\n",
    "n"
   ]
  },
  {
   "cell_type": "code",
   "execution_count": 73,
   "metadata": {},
   "outputs": [
    {
     "data": {
      "text/plain": [
       "8.7"
      ]
     },
     "execution_count": 73,
     "metadata": {},
     "output_type": "execute_result"
    }
   ],
   "source": [
    "mean_ = sum(x) / n\n",
    "mean_"
   ]
  },
  {
   "cell_type": "code",
   "execution_count": 74,
   "metadata": {},
   "outputs": [
    {
     "name": "stdout",
     "output_type": "stream",
     "text": [
      "Note that these two datasets have the same mean and median, even though they appear to differ significantly. Neither the mean nor the median can describe this difference. That’s why you need the measures of variability.\n"
     ]
    }
   ],
   "source": [
    "print(\"\"\"Note that these two datasets have the same mean and median, even though they appear to differ significantly. Neither the mean nor the median can describe this difference. That’s why you need the measures of variability.\"\"\")"
   ]
  },
  {
   "cell_type": "code",
   "execution_count": 75,
   "metadata": {},
   "outputs": [
    {
     "data": {
      "text/plain": [
       "123.2"
      ]
     },
     "execution_count": 75,
     "metadata": {},
     "output_type": "execute_result"
    }
   ],
   "source": [
    "var_ = statistics.variance(x)\n",
    "var_"
   ]
  },
  {
   "cell_type": "code",
   "execution_count": 76,
   "metadata": {},
   "outputs": [
    {
     "data": {
      "text/plain": [
       "123.2"
      ]
     },
     "execution_count": 76,
     "metadata": {},
     "output_type": "execute_result"
    }
   ],
   "source": [
    "var_ = statistics.variance(x,mean_)\n",
    "var_"
   ]
  },
  {
   "cell_type": "code",
   "execution_count": 77,
   "metadata": {},
   "outputs": [
    {
     "data": {
      "text/plain": [
       "nan"
      ]
     },
     "execution_count": 77,
     "metadata": {},
     "output_type": "execute_result"
    }
   ],
   "source": [
    "#If you have nan values among your data, then statistics.variance() will return nan:\n",
    "statistics.variance(x_with_nan)"
   ]
  },
  {
   "cell_type": "code",
   "execution_count": 9,
   "metadata": {},
   "outputs": [
    {
     "name": "stdout",
     "output_type": "stream",
     "text": [
      "123.19999999999999\n",
      "\n",
      "It’s very important to specify the parameter ddof=1. That’s how you set the delta degrees of freedom to 1. This parameter allows the proper calculation of 𝑠², with (𝑛 − 1) in the denominator instead of 𝑛.\n"
     ]
    }
   ],
   "source": [
    "var_ = np.var(y,ddof=1)\n",
    "print(var_)\n",
    "print(\"\\nIt’s very important to specify the parameter ddof=1. That’s how you set the delta degrees of freedom to 1. This parameter allows the proper calculation of 𝑠², with (𝑛 − 1) in the denominator instead of 𝑛.\")"
   ]
  },
  {
   "cell_type": "code",
   "execution_count": 10,
   "metadata": {},
   "outputs": [
    {
     "data": {
      "text/plain": [
       "123.19999999999999"
      ]
     },
     "execution_count": 10,
     "metadata": {},
     "output_type": "execute_result"
    }
   ],
   "source": [
    "#pd.Series objects have the method .var() that skips nan values by default:\n",
    "z.var(ddof=1)"
   ]
  },
  {
   "cell_type": "code",
   "execution_count": 11,
   "metadata": {},
   "outputs": [
    {
     "name": "stdout",
     "output_type": "stream",
     "text": [
      "The sample standard deviation is another measure of data spread. It’s connected to the sample variance, as standard deviation, 𝑠, is the positive square root of the sample variance. The standard deviation is often more convenient than the variance because it has the same unit as the data points. Once you get the variance, you can calculate the standard deviation with pure Python:\n"
     ]
    }
   ],
   "source": [
    "print(\"\"\"The sample standard deviation is another measure of data spread. It’s connected to the sample variance, as standard deviation, 𝑠, is the positive square root of the sample variance. The standard deviation is often more convenient than the variance because it has the same unit as the data points. Once you get the variance, you can calculate the standard deviation with pure Python:\"\"\")"
   ]
  },
  {
   "cell_type": "code",
   "execution_count": 12,
   "metadata": {},
   "outputs": [
    {
     "data": {
      "text/plain": [
       "11.099549540409285"
      ]
     },
     "execution_count": 12,
     "metadata": {},
     "output_type": "execute_result"
    }
   ],
   "source": [
    "std_ = var_ ** 0.5\n",
    "std_"
   ]
  },
  {
   "cell_type": "code",
   "execution_count": 13,
   "metadata": {},
   "outputs": [
    {
     "data": {
      "text/plain": [
       "11.099549540409287"
      ]
     },
     "execution_count": 13,
     "metadata": {},
     "output_type": "execute_result"
    }
   ],
   "source": [
    "std_ = statistics.stdev(x)\n",
    "std_"
   ]
  },
  {
   "cell_type": "code",
   "execution_count": 14,
   "metadata": {},
   "outputs": [
    {
     "name": "stdout",
     "output_type": "stream",
     "text": [
      "You can get the standard deviation with NumPy in almost the same way. You can use the function std() and the corresponding method .std() to calculate the standard deviation. If there are nan values in the dataset, then they’ll return nan. To ignore nan values, you should use np.nanstd(). You use std(), .std(), and nanstd() from NumPy as you would use var(), .var(), and nanvar():\n"
     ]
    }
   ],
   "source": [
    "print(\"\"\"You can get the standard deviation with NumPy in almost the same way. You can use the function std() and the corresponding method .std() to calculate the standard deviation. If there are nan values in the dataset, then they’ll return nan. To ignore nan values, you should use np.nanstd(). You use std(), .std(), and nanstd() from NumPy as you would use var(), .var(), and nanvar():\"\"\")"
   ]
  },
  {
   "cell_type": "code",
   "execution_count": 15,
   "metadata": {},
   "outputs": [
    {
     "data": {
      "text/plain": [
       "11.099549540409285"
      ]
     },
     "execution_count": 15,
     "metadata": {},
     "output_type": "execute_result"
    }
   ],
   "source": [
    "np.std(y,ddof=1)"
   ]
  },
  {
   "cell_type": "code",
   "execution_count": 16,
   "metadata": {},
   "outputs": [
    {
     "data": {
      "text/plain": [
       "nan"
      ]
     },
     "execution_count": 16,
     "metadata": {},
     "output_type": "execute_result"
    }
   ],
   "source": [
    "np.std(y_with_nan,ddof=1)"
   ]
  },
  {
   "cell_type": "code",
   "execution_count": 17,
   "metadata": {},
   "outputs": [
    {
     "data": {
      "text/plain": [
       "11.099549540409285"
      ]
     },
     "execution_count": 17,
     "metadata": {},
     "output_type": "execute_result"
    }
   ],
   "source": [
    "np.nanstd(y_with_nan,ddof=1)"
   ]
  },
  {
   "cell_type": "code",
   "execution_count": 18,
   "metadata": {},
   "outputs": [
    {
     "data": {
      "text/plain": [
       "11.099549540409285"
      ]
     },
     "execution_count": 18,
     "metadata": {},
     "output_type": "execute_result"
    }
   ],
   "source": [
    "#pd.Series objects also have the method .std() that skips nan by default:\n",
    "z.std(ddof=1)"
   ]
  },
  {
   "cell_type": "code",
   "execution_count": 19,
   "metadata": {},
   "outputs": [
    {
     "data": {
      "text/plain": [
       "11.099549540409285"
      ]
     },
     "execution_count": 19,
     "metadata": {},
     "output_type": "execute_result"
    }
   ],
   "source": [
    "z_with_nan.std(ddof=1)"
   ]
  },
  {
   "cell_type": "code",
   "execution_count": 20,
   "metadata": {},
   "outputs": [
    {
     "data": {
      "text/plain": [
       "array([ 8. ,  1. ,  2.5,  4. , 28. ])"
      ]
     },
     "execution_count": 20,
     "metadata": {},
     "output_type": "execute_result"
    }
   ],
   "source": [
    "#The sample skewness measures the asymmetry of a data sample.\n",
    "y,y_with_nan = np.array(x),np.array(x_with_nan)\n",
    "y"
   ]
  },
  {
   "cell_type": "code",
   "execution_count": 21,
   "metadata": {},
   "outputs": [
    {
     "data": {
      "text/plain": [
       "array([ 8. ,  1. ,  2.5,  nan,  4. , 28. ])"
      ]
     },
     "execution_count": 21,
     "metadata": {},
     "output_type": "execute_result"
    }
   ],
   "source": [
    "y_with_nan"
   ]
  },
  {
   "cell_type": "code",
   "execution_count": 23,
   "metadata": {},
   "outputs": [
    {
     "data": {
      "text/plain": [
       "1.9470432273905927"
      ]
     },
     "execution_count": 23,
     "metadata": {},
     "output_type": "execute_result"
    }
   ],
   "source": [
    "scipy.stats.skew(y,bias = False)"
   ]
  },
  {
   "cell_type": "code",
   "execution_count": 25,
   "metadata": {},
   "outputs": [
    {
     "data": {
      "text/plain": [
       "nan"
      ]
     },
     "execution_count": 25,
     "metadata": {},
     "output_type": "execute_result"
    }
   ],
   "source": [
    "scipy.stats.skew(y_with_nan,bias = False)"
   ]
  },
  {
   "cell_type": "code",
   "execution_count": 26,
   "metadata": {},
   "outputs": [],
   "source": [
    "z,z_with_nan = pd.Series(x),pd.Series(x_with_nan)"
   ]
  },
  {
   "cell_type": "code",
   "execution_count": 27,
   "metadata": {},
   "outputs": [
    {
     "data": {
      "text/plain": [
       "1.9470432273905924"
      ]
     },
     "execution_count": 27,
     "metadata": {},
     "output_type": "execute_result"
    }
   ],
   "source": [
    "z.skew()"
   ]
  },
  {
   "cell_type": "code",
   "execution_count": 28,
   "metadata": {},
   "outputs": [
    {
     "data": {
      "text/plain": [
       "1.9470432273905924"
      ]
     },
     "execution_count": 28,
     "metadata": {},
     "output_type": "execute_result"
    }
   ],
   "source": [
    "z_with_nan.skew()"
   ]
  },
  {
   "cell_type": "code",
   "execution_count": 29,
   "metadata": {},
   "outputs": [
    {
     "name": "stdout",
     "output_type": "stream",
     "text": [
      "The sample 𝑝 percentile is the element in the dataset such that 𝑝% of the elements in the dataset are less than or equal to that value. Also, (100 − 𝑝)% of the elements are greater than or equal to that value\n"
     ]
    }
   ],
   "source": [
    "print(\"\"\"The sample 𝑝 percentile is the element in the dataset such that 𝑝% of the elements in the dataset are less than or equal to that value. Also, (100 − 𝑝)% of the elements are greater than or equal to that value\"\"\")"
   ]
  },
  {
   "cell_type": "code",
   "execution_count": 32,
   "metadata": {},
   "outputs": [],
   "source": [
    "x = [-5.0, -1.1, 0.1, 2.0, 8.0, 12.8, 21.0, 25.8, 41.0]"
   ]
  },
  {
   "cell_type": "code",
   "execution_count": 38,
   "metadata": {},
   "outputs": [],
   "source": [
    "y = np.array(x)"
   ]
  },
  {
   "cell_type": "code",
   "execution_count": 39,
   "metadata": {},
   "outputs": [
    {
     "name": "stdout",
     "output_type": "stream",
     "text": [
      "The range of data is the difference between the maximum and minimum element in the dataset. You can get it with the function np.ptp():\n"
     ]
    }
   ],
   "source": [
    "print(\"The range of data is the difference between the maximum and minimum element in the dataset. You can get it with the function np.ptp():\")"
   ]
  },
  {
   "cell_type": "code",
   "execution_count": 40,
   "metadata": {},
   "outputs": [
    {
     "data": {
      "text/plain": [
       "46.0"
      ]
     },
     "execution_count": 40,
     "metadata": {},
     "output_type": "execute_result"
    }
   ],
   "source": [
    "np.ptp(y)"
   ]
  },
  {
   "cell_type": "code",
   "execution_count": 41,
   "metadata": {},
   "outputs": [
    {
     "name": "stdout",
     "output_type": "stream",
     "text": [
      "SciPy and Pandas offer useful routines to quickly get descriptive statistics with a single function or method call.\n"
     ]
    }
   ],
   "source": [
    "print(\"\"\"SciPy and Pandas offer useful routines to quickly get descriptive statistics with a single function or method call.\"\"\")"
   ]
  },
  {
   "cell_type": "code",
   "execution_count": 43,
   "metadata": {},
   "outputs": [
    {
     "data": {
      "text/plain": [
       "DescribeResult(nobs=9, minmax=(-5.0, 41.0), mean=11.622222222222222, variance=228.75194444444446, skewness=0.9249043136685094, kurtosis=0.14770623629658886)"
      ]
     },
     "execution_count": 43,
     "metadata": {},
     "output_type": "execute_result"
    }
   ],
   "source": [
    "result = scipy.stats.describe(y,ddof=1,bias=False)\n",
    "result"
   ]
  },
  {
   "cell_type": "code",
   "execution_count": 44,
   "metadata": {},
   "outputs": [
    {
     "name": "stdout",
     "output_type": "stream",
     "text": [
      "nobs: the number of observations or elements in your dataset\n",
      "minmax: the tuple with the minimum and maximum values of your dataset\n",
      "mean: the mean of your dataset\n",
      "variance: the variance of your dataset\n",
      "skewness: the skewness of your dataset\n",
      "kurtosis: the kurtosis of your dataset\n"
     ]
    }
   ],
   "source": [
    "print(\"\"\"nobs: the number of observations or elements in your dataset\n",
    "minmax: the tuple with the minimum and maximum values of your dataset\n",
    "mean: the mean of your dataset\n",
    "variance: the variance of your dataset\n",
    "skewness: the skewness of your dataset\n",
    "kurtosis: the kurtosis of your dataset\"\"\")"
   ]
  },
  {
   "cell_type": "code",
   "execution_count": 46,
   "metadata": {},
   "outputs": [
    {
     "data": {
      "text/plain": [
       "0.14770623629658886"
      ]
     },
     "execution_count": 46,
     "metadata": {},
     "output_type": "execute_result"
    }
   ],
   "source": [
    "result.kurtosis"
   ]
  },
  {
   "cell_type": "code",
   "execution_count": 48,
   "metadata": {},
   "outputs": [
    {
     "data": {
      "text/plain": [
       "count     5.00000\n",
       "mean      8.70000\n",
       "std      11.09955\n",
       "min       1.00000\n",
       "25%       2.50000\n",
       "50%       4.00000\n",
       "75%       8.00000\n",
       "max      28.00000\n",
       "dtype: float64"
      ]
     },
     "execution_count": 48,
     "metadata": {},
     "output_type": "execute_result"
    }
   ],
   "source": [
    "result = z.describe()\n",
    "result"
   ]
  },
  {
   "cell_type": "code",
   "execution_count": 49,
   "metadata": {},
   "outputs": [
    {
     "name": "stdout",
     "output_type": "stream",
     "text": [
      "It returns a new Series that holds the following:\n",
      "\n",
      "count: the number of elements in your dataset\n",
      "mean: the mean of your dataset\n",
      "std: the standard deviation of your dataset\n",
      "min and max: the minimum and maximum values of your dataset\n",
      "25%, 50%, and 75%: the quartiles of your dataset\n"
     ]
    }
   ],
   "source": [
    "print(\"\"\"It returns a new Series that holds the following:\n",
    "\n",
    "count: the number of elements in your dataset\n",
    "mean: the mean of your dataset\n",
    "std: the standard deviation of your dataset\n",
    "min and max: the minimum and maximum values of your dataset\n",
    "25%, 50%, and 75%: the quartiles of your dataset\"\"\")"
   ]
  },
  {
   "cell_type": "code",
   "execution_count": 50,
   "metadata": {},
   "outputs": [
    {
     "name": "stdout",
     "output_type": "stream",
     "text": [
      "Positive correlation exists when larger values of 𝑥 correspond to larger values of 𝑦 and vice versa.\n",
      "Negative correlation exists when larger values of 𝑥 correspond to smaller values of 𝑦 and vice versa.\n",
      "Weak or no correlation exists if there is no such apparent relationship.\n"
     ]
    }
   ],
   "source": [
    "print(\"\"\"Positive correlation exists when larger values of 𝑥 correspond to larger values of 𝑦 and vice versa.\n",
    "Negative correlation exists when larger values of 𝑥 correspond to smaller values of 𝑦 and vice versa.\n",
    "Weak or no correlation exists if there is no such apparent relationship.\"\"\")"
   ]
  },
  {
   "cell_type": "code",
   "execution_count": 58,
   "metadata": {},
   "outputs": [],
   "source": [
    "x = list(range(-10,11))\n",
    "y = [0, 2, 2, 2, 2, 3, 3, 6, 7, 4, 7, 6, 6, 9, 4, 5, 5, 10, 11, 12, 14]\n",
    "x_,y_ = np.array(x),np.array(y)\n",
    "x__,y__ = pd.Series(x),pd.Series(y)"
   ]
  },
  {
   "cell_type": "code",
   "execution_count": 59,
   "metadata": {},
   "outputs": [
    {
     "name": "stdout",
     "output_type": "stream",
     "text": [
      "The sample covariance is a measure that quantifies the strength and direction of a relationship between a pair of variables:\n",
      "\n",
      "If the correlation is positive, then the covariance is positive, as well. A stronger relationship corresponds to a higher value of the covariance.\n",
      "If the correlation is negative, then the covariance is negative, as well. A stronger relationship corresponds to a lower (or higher absolute) value of the covariance.\n",
      "If the correlation is weak, then the covariance is close to zero.\n"
     ]
    }
   ],
   "source": [
    "print(\"\"\"The sample covariance is a measure that quantifies the strength and direction of a relationship between a pair of variables:\n",
    "\n",
    "If the correlation is positive, then the covariance is positive, as well. A stronger relationship corresponds to a higher value of the covariance.\n",
    "If the correlation is negative, then the covariance is negative, as well. A stronger relationship corresponds to a lower (or higher absolute) value of the covariance.\n",
    "If the correlation is weak, then the covariance is close to zero.\"\"\")"
   ]
  },
  {
   "cell_type": "code",
   "execution_count": 61,
   "metadata": {},
   "outputs": [
    {
     "data": {
      "text/plain": [
       "array([[38.5       , 19.95      ],\n",
       "       [19.95      , 13.91428571]])"
      ]
     },
     "execution_count": 61,
     "metadata": {},
     "output_type": "execute_result"
    }
   ],
   "source": [
    "#NumPy has the function cov() that returns the covariance matrix:\n",
    "cov_matrix = np.cov(x_,y_)\n",
    "cov_matrix"
   ]
  },
  {
   "cell_type": "code",
   "execution_count": 62,
   "metadata": {},
   "outputs": [
    {
     "name": "stdout",
     "output_type": "stream",
     "text": [
      "Correlation Coefficient\n",
      "The correlation coefficient, or Pearson product-moment correlation coefficient, is denoted by the symbol 𝑟. The coefficient is another measure of the correlation between data. You can think of it as a standardized covariance. Here are some important facts about it:\n",
      "\n",
      "The value 𝑟 > 0 indicates positive correlation.\n",
      "The value 𝑟 < 0 indicates negative correlation.\n",
      "The value r = 1 is the maximum possible value of 𝑟. It corresponds to a perfect positive linear relationship between variables.\n",
      "The value r = −1 is the minimum possible value of 𝑟. It corresponds to a perfect negative linear relationship between variables.\n",
      "The value r ≈ 0, or when 𝑟 is around zero, means that the correlation between variables is weak.\n"
     ]
    }
   ],
   "source": [
    "print(\"\"\"Correlation Coefficient\n",
    "The correlation coefficient, or Pearson product-moment correlation coefficient, is denoted by the symbol 𝑟. The coefficient is another measure of the correlation between data. You can think of it as a standardized covariance. Here are some important facts about it:\n",
    "\n",
    "The value 𝑟 > 0 indicates positive correlation.\n",
    "The value 𝑟 < 0 indicates negative correlation.\n",
    "The value r = 1 is the maximum possible value of 𝑟. It corresponds to a perfect positive linear relationship between variables.\n",
    "The value r = −1 is the minimum possible value of 𝑟. It corresponds to a perfect negative linear relationship between variables.\n",
    "The value r ≈ 0, or when 𝑟 is around zero, means that the correlation between variables is weak.\"\"\")"
   ]
  },
  {
   "cell_type": "code",
   "execution_count": 63,
   "metadata": {},
   "outputs": [
    {
     "data": {
      "text/plain": [
       "0.861950005631606"
      ]
     },
     "execution_count": 63,
     "metadata": {},
     "output_type": "execute_result"
    }
   ],
   "source": [
    "r,p = scipy.stats.pearsonr(x_,y_)\n",
    "r"
   ]
  },
  {
   "cell_type": "code",
   "execution_count": 64,
   "metadata": {},
   "outputs": [
    {
     "data": {
      "text/plain": [
       "5.122760847201171e-07"
      ]
     },
     "execution_count": 64,
     "metadata": {},
     "output_type": "execute_result"
    }
   ],
   "source": [
    "p"
   ]
  },
  {
   "cell_type": "code",
   "execution_count": 65,
   "metadata": {},
   "outputs": [
    {
     "data": {
      "text/plain": [
       "LinregressResult(slope=0.5181818181818181, intercept=5.714285714285714, rvalue=0.861950005631606, pvalue=5.122760847201165e-07, stderr=0.06992387660074979)"
      ]
     },
     "execution_count": 65,
     "metadata": {},
     "output_type": "execute_result"
    }
   ],
   "source": [
    "#You can get the correlation coefficient with scipy.stats.linregress():\n",
    "scipy.stats.linregress(x_,y_)"
   ]
  },
  {
   "cell_type": "code",
   "execution_count": 67,
   "metadata": {},
   "outputs": [
    {
     "data": {
      "text/plain": [
       "0.8619500056316061"
      ]
     },
     "execution_count": 67,
     "metadata": {},
     "output_type": "execute_result"
    }
   ],
   "source": [
    "#Pandas Series have the method .corr() for calculating the correlation coefficient:\n",
    "r = x__.corr(y__)\n",
    "r"
   ]
  },
  {
   "cell_type": "code",
   "execution_count": 69,
   "metadata": {},
   "outputs": [
    {
     "data": {
      "text/plain": [
       "array([[ 1,  1,  1],\n",
       "       [ 2,  3,  1],\n",
       "       [ 4,  9,  2],\n",
       "       [ 8, 27,  4],\n",
       "       [16,  1,  1]])"
      ]
     },
     "execution_count": 69,
     "metadata": {},
     "output_type": "execute_result"
    }
   ],
   "source": [
    "#Working on 2D data\n",
    "a = np.array([[1, 1, 1],\n",
    "             [2, 3, 1],\n",
    "             [4, 9, 2],\n",
    "             [8, 27, 4],\n",
    "             [16, 1, 1]])\n",
    "\n",
    "a"
   ]
  },
  {
   "cell_type": "code",
   "execution_count": 70,
   "metadata": {},
   "outputs": [
    {
     "data": {
      "text/plain": [
       "5.4"
      ]
     },
     "execution_count": 70,
     "metadata": {},
     "output_type": "execute_result"
    }
   ],
   "source": [
    "np.mean(a)"
   ]
  },
  {
   "cell_type": "code",
   "execution_count": 71,
   "metadata": {},
   "outputs": [
    {
     "data": {
      "text/plain": [
       "5.4"
      ]
     },
     "execution_count": 71,
     "metadata": {},
     "output_type": "execute_result"
    }
   ],
   "source": [
    "a.mean()"
   ]
  },
  {
   "cell_type": "code",
   "execution_count": 72,
   "metadata": {},
   "outputs": [
    {
     "data": {
      "text/plain": [
       "2.0"
      ]
     },
     "execution_count": 72,
     "metadata": {},
     "output_type": "execute_result"
    }
   ],
   "source": [
    "np.median(a)"
   ]
  },
  {
   "cell_type": "code",
   "execution_count": 73,
   "metadata": {},
   "outputs": [
    {
     "data": {
      "text/plain": [
       "53.40000000000001"
      ]
     },
     "execution_count": 73,
     "metadata": {},
     "output_type": "execute_result"
    }
   ],
   "source": [
    "a.var(ddof =1)"
   ]
  },
  {
   "cell_type": "code",
   "execution_count": 74,
   "metadata": {},
   "outputs": [
    {
     "name": "stdout",
     "output_type": "stream",
     "text": [
      "As you can see, you get statistics (like the mean, median, or variance) across all data in the array a. Sometimes, this behavior is what you want, but in some cases, you’ll want these quantities calculated for each row or column of your 2D array.\n",
      "\n",
      "The functions and methods you’ve used so far have one optional parameter called axis, which is essential for handling 2D data. axis can take on any of the following values:\n",
      "\n",
      "axis=None says to calculate the statistics across all data in the array. The examples above work like this. This behavior is often the default in NumPy.\n",
      "axis=0 says to calculate the statistics across all rows, that is, for each column of the array. This behavior is often the default for SciPy statistical functions.\n",
      "axis=1 says to calculate the statistics across all columns, that is, for each row of the array.\n"
     ]
    }
   ],
   "source": [
    "print(\"\"\"As you can see, you get statistics (like the mean, median, or variance) across all data in the array a. Sometimes, this behavior is what you want, but in some cases, you’ll want these quantities calculated for each row or column of your 2D array.\n",
    "\n",
    "The functions and methods you’ve used so far have one optional parameter called axis, which is essential for handling 2D data. axis can take on any of the following values:\n",
    "\n",
    "axis=None says to calculate the statistics across all data in the array. The examples above work like this. This behavior is often the default in NumPy.\n",
    "axis=0 says to calculate the statistics across all rows, that is, for each column of the array. This behavior is often the default for SciPy statistical functions.\n",
    "axis=1 says to calculate the statistics across all columns, that is, for each row of the array.\"\"\")"
   ]
  },
  {
   "cell_type": "code",
   "execution_count": 75,
   "metadata": {},
   "outputs": [
    {
     "data": {
      "text/plain": [
       "array([[ 1,  1,  1],\n",
       "       [ 2,  3,  1],\n",
       "       [ 4,  9,  2],\n",
       "       [ 8, 27,  4],\n",
       "       [16,  1,  1]])"
      ]
     },
     "execution_count": 75,
     "metadata": {},
     "output_type": "execute_result"
    }
   ],
   "source": [
    "a"
   ]
  },
  {
   "cell_type": "code",
   "execution_count": 76,
   "metadata": {},
   "outputs": [
    {
     "data": {
      "text/plain": [
       "array([6.2, 8.2, 1.8])"
      ]
     },
     "execution_count": 76,
     "metadata": {},
     "output_type": "execute_result"
    }
   ],
   "source": [
    "np.mean(a,axis=0) #across columns means calculation for all rows"
   ]
  },
  {
   "cell_type": "code",
   "execution_count": 78,
   "metadata": {},
   "outputs": [
    {
     "data": {
      "text/plain": [
       "array([ 1.,  2.,  5., 13.,  6.])"
      ]
     },
     "execution_count": 78,
     "metadata": {},
     "output_type": "execute_result"
    }
   ],
   "source": [
    "np.mean(a,axis=1) #across rows means calculation for all columns"
   ]
  },
  {
   "cell_type": "code",
   "execution_count": 79,
   "metadata": {},
   "outputs": [
    {
     "data": {
      "text/plain": [
       "array([1., 2., 4., 8., 1.])"
      ]
     },
     "execution_count": 79,
     "metadata": {},
     "output_type": "execute_result"
    }
   ],
   "source": [
    "np.median(a,axis=1)"
   ]
  },
  {
   "cell_type": "code",
   "execution_count": 80,
   "metadata": {},
   "outputs": [
    {
     "name": "stdout",
     "output_type": "stream",
     "text": [
      "The class DataFrame is one of the fundamental Pandas data types. It’s very comfortable to work with because it has labels for rows and columns. Use the array a and create a\n"
     ]
    }
   ],
   "source": [
    "print(\"\"\"The class DataFrame is one of the fundamental Pandas data types. It’s very comfortable to work with because it has labels for rows and columns. Use the array a and create a\"\"\")"
   ]
  },
  {
   "cell_type": "code",
   "execution_count": 81,
   "metadata": {},
   "outputs": [],
   "source": [
    "row_names = ['first', 'second', 'third', 'fourth', 'fifth']\n",
    "col_names = ['A', 'B', 'C']"
   ]
  },
  {
   "cell_type": "code",
   "execution_count": 82,
   "metadata": {},
   "outputs": [
    {
     "data": {
      "text/html": [
       "<div>\n",
       "<style scoped>\n",
       "    .dataframe tbody tr th:only-of-type {\n",
       "        vertical-align: middle;\n",
       "    }\n",
       "\n",
       "    .dataframe tbody tr th {\n",
       "        vertical-align: top;\n",
       "    }\n",
       "\n",
       "    .dataframe thead th {\n",
       "        text-align: right;\n",
       "    }\n",
       "</style>\n",
       "<table border=\"1\" class=\"dataframe\">\n",
       "  <thead>\n",
       "    <tr style=\"text-align: right;\">\n",
       "      <th></th>\n",
       "      <th>A</th>\n",
       "      <th>B</th>\n",
       "      <th>C</th>\n",
       "    </tr>\n",
       "  </thead>\n",
       "  <tbody>\n",
       "    <tr>\n",
       "      <td>first</td>\n",
       "      <td>1</td>\n",
       "      <td>1</td>\n",
       "      <td>1</td>\n",
       "    </tr>\n",
       "    <tr>\n",
       "      <td>second</td>\n",
       "      <td>2</td>\n",
       "      <td>3</td>\n",
       "      <td>1</td>\n",
       "    </tr>\n",
       "    <tr>\n",
       "      <td>third</td>\n",
       "      <td>4</td>\n",
       "      <td>9</td>\n",
       "      <td>2</td>\n",
       "    </tr>\n",
       "    <tr>\n",
       "      <td>fourth</td>\n",
       "      <td>8</td>\n",
       "      <td>27</td>\n",
       "      <td>4</td>\n",
       "    </tr>\n",
       "    <tr>\n",
       "      <td>fifth</td>\n",
       "      <td>16</td>\n",
       "      <td>1</td>\n",
       "      <td>1</td>\n",
       "    </tr>\n",
       "  </tbody>\n",
       "</table>\n",
       "</div>"
      ],
      "text/plain": [
       "         A   B  C\n",
       "first    1   1  1\n",
       "second   2   3  1\n",
       "third    4   9  2\n",
       "fourth   8  27  4\n",
       "fifth   16   1  1"
      ]
     },
     "execution_count": 82,
     "metadata": {},
     "output_type": "execute_result"
    }
   ],
   "source": [
    "df = pd.DataFrame(a,index=row_names,columns=col_names)\n",
    "df"
   ]
  },
  {
   "cell_type": "code",
   "execution_count": 83,
   "metadata": {},
   "outputs": [
    {
     "data": {
      "text/plain": [
       "A    6.2\n",
       "B    8.2\n",
       "C    1.8\n",
       "dtype: float64"
      ]
     },
     "execution_count": 83,
     "metadata": {},
     "output_type": "execute_result"
    }
   ],
   "source": [
    "df.mean()"
   ]
  },
  {
   "cell_type": "code",
   "execution_count": 84,
   "metadata": {},
   "outputs": [
    {
     "data": {
      "text/plain": [
       "A     37.2\n",
       "B    121.2\n",
       "C      1.7\n",
       "dtype: float64"
      ]
     },
     "execution_count": 84,
     "metadata": {},
     "output_type": "execute_result"
    }
   ],
   "source": [
    "df.var()"
   ]
  },
  {
   "cell_type": "code",
   "execution_count": 85,
   "metadata": {},
   "outputs": [
    {
     "data": {
      "text/plain": [
       "first      1.0\n",
       "second     2.0\n",
       "third      5.0\n",
       "fourth    13.0\n",
       "fifth      6.0\n",
       "dtype: float64"
      ]
     },
     "execution_count": 85,
     "metadata": {},
     "output_type": "execute_result"
    }
   ],
   "source": [
    "df.mean(axis=1)"
   ]
  },
  {
   "cell_type": "code",
   "execution_count": 86,
   "metadata": {},
   "outputs": [
    {
     "data": {
      "text/plain": [
       "first      1\n",
       "second     2\n",
       "third      4\n",
       "fourth     8\n",
       "fifth     16\n",
       "Name: A, dtype: int32"
      ]
     },
     "execution_count": 86,
     "metadata": {},
     "output_type": "execute_result"
    }
   ],
   "source": [
    "#isolate column in DAtaFrame\n",
    "df['A']"
   ]
  },
  {
   "cell_type": "code",
   "execution_count": 87,
   "metadata": {},
   "outputs": [
    {
     "data": {
      "text/html": [
       "<div>\n",
       "<style scoped>\n",
       "    .dataframe tbody tr th:only-of-type {\n",
       "        vertical-align: middle;\n",
       "    }\n",
       "\n",
       "    .dataframe tbody tr th {\n",
       "        vertical-align: top;\n",
       "    }\n",
       "\n",
       "    .dataframe thead th {\n",
       "        text-align: right;\n",
       "    }\n",
       "</style>\n",
       "<table border=\"1\" class=\"dataframe\">\n",
       "  <thead>\n",
       "    <tr style=\"text-align: right;\">\n",
       "      <th></th>\n",
       "      <th>A</th>\n",
       "      <th>B</th>\n",
       "      <th>C</th>\n",
       "    </tr>\n",
       "  </thead>\n",
       "  <tbody>\n",
       "    <tr>\n",
       "      <td>first</td>\n",
       "      <td>1</td>\n",
       "      <td>1</td>\n",
       "      <td>1</td>\n",
       "    </tr>\n",
       "    <tr>\n",
       "      <td>second</td>\n",
       "      <td>2</td>\n",
       "      <td>3</td>\n",
       "      <td>1</td>\n",
       "    </tr>\n",
       "    <tr>\n",
       "      <td>third</td>\n",
       "      <td>4</td>\n",
       "      <td>9</td>\n",
       "      <td>2</td>\n",
       "    </tr>\n",
       "    <tr>\n",
       "      <td>fourth</td>\n",
       "      <td>8</td>\n",
       "      <td>27</td>\n",
       "      <td>4</td>\n",
       "    </tr>\n",
       "    <tr>\n",
       "      <td>fifth</td>\n",
       "      <td>16</td>\n",
       "      <td>1</td>\n",
       "      <td>1</td>\n",
       "    </tr>\n",
       "  </tbody>\n",
       "</table>\n",
       "</div>"
      ],
      "text/plain": [
       "         A   B  C\n",
       "first    1   1  1\n",
       "second   2   3  1\n",
       "third    4   9  2\n",
       "fourth   8  27  4\n",
       "fifth   16   1  1"
      ]
     },
     "execution_count": 87,
     "metadata": {},
     "output_type": "execute_result"
    }
   ],
   "source": [
    "df"
   ]
  },
  {
   "cell_type": "code",
   "execution_count": 88,
   "metadata": {},
   "outputs": [
    {
     "data": {
      "text/plain": [
       "6.2"
      ]
     },
     "execution_count": 88,
     "metadata": {},
     "output_type": "execute_result"
    }
   ],
   "source": [
    "df['A'].mean()"
   ]
  },
  {
   "cell_type": "code",
   "execution_count": 89,
   "metadata": {},
   "outputs": [
    {
     "name": "stdout",
     "output_type": "stream",
     "text": [
      "Sometimes, you might want to use a DataFrame as a NumPy array and apply some function to it. It’s possible to get all data from a DataFrame with .values or .to_numpy():\n"
     ]
    }
   ],
   "source": [
    "print(\"\"\"Sometimes, you might want to use a DataFrame as a NumPy array and apply some function to it. It’s possible to get all data from a DataFrame with .values or .to_numpy():\"\"\")"
   ]
  },
  {
   "cell_type": "code",
   "execution_count": 92,
   "metadata": {},
   "outputs": [
    {
     "data": {
      "text/plain": [
       "array([[ 1,  1,  1],\n",
       "       [ 2,  3,  1],\n",
       "       [ 4,  9,  2],\n",
       "       [ 8, 27,  4],\n",
       "       [16,  1,  1]])"
      ]
     },
     "execution_count": 92,
     "metadata": {},
     "output_type": "execute_result"
    }
   ],
   "source": [
    "df.values"
   ]
  },
  {
   "cell_type": "code",
   "execution_count": 93,
   "metadata": {},
   "outputs": [
    {
     "data": {
      "text/plain": [
       "array([[ 1,  1,  1],\n",
       "       [ 2,  3,  1],\n",
       "       [ 4,  9,  2],\n",
       "       [ 8, 27,  4],\n",
       "       [16,  1,  1]])"
      ]
     },
     "execution_count": 93,
     "metadata": {},
     "output_type": "execute_result"
    }
   ],
   "source": [
    "df.to_numpy()"
   ]
  },
  {
   "cell_type": "code",
   "execution_count": 94,
   "metadata": {},
   "outputs": [
    {
     "name": "stdout",
     "output_type": "stream",
     "text": [
      "df.values and df.to_numpy() give you a NumPy array with all items from the DataFrame without row and column labels. Note that df.to_numpy() is more flexible because you can specify the data type of items and whether you want to use the existing data or copy it.\n"
     ]
    }
   ],
   "source": [
    "print(\"\"\"df.values and df.to_numpy() give you a NumPy array with all items from the DataFrame without row and column labels. Note that df.to_numpy() is more flexible because you can specify the data type of items and whether you want to use the existing data or copy it.\"\"\")"
   ]
  },
  {
   "cell_type": "code",
   "execution_count": 98,
   "metadata": {},
   "outputs": [
    {
     "data": {
      "text/html": [
       "<div>\n",
       "<style scoped>\n",
       "    .dataframe tbody tr th:only-of-type {\n",
       "        vertical-align: middle;\n",
       "    }\n",
       "\n",
       "    .dataframe tbody tr th {\n",
       "        vertical-align: top;\n",
       "    }\n",
       "\n",
       "    .dataframe thead th {\n",
       "        text-align: right;\n",
       "    }\n",
       "</style>\n",
       "<table border=\"1\" class=\"dataframe\">\n",
       "  <thead>\n",
       "    <tr style=\"text-align: right;\">\n",
       "      <th></th>\n",
       "      <th>A</th>\n",
       "      <th>B</th>\n",
       "      <th>C</th>\n",
       "    </tr>\n",
       "  </thead>\n",
       "  <tbody>\n",
       "    <tr>\n",
       "      <td>count</td>\n",
       "      <td>5.00000</td>\n",
       "      <td>5.000000</td>\n",
       "      <td>5.00000</td>\n",
       "    </tr>\n",
       "    <tr>\n",
       "      <td>mean</td>\n",
       "      <td>6.20000</td>\n",
       "      <td>8.200000</td>\n",
       "      <td>1.80000</td>\n",
       "    </tr>\n",
       "    <tr>\n",
       "      <td>std</td>\n",
       "      <td>6.09918</td>\n",
       "      <td>11.009087</td>\n",
       "      <td>1.30384</td>\n",
       "    </tr>\n",
       "    <tr>\n",
       "      <td>min</td>\n",
       "      <td>1.00000</td>\n",
       "      <td>1.000000</td>\n",
       "      <td>1.00000</td>\n",
       "    </tr>\n",
       "    <tr>\n",
       "      <td>25%</td>\n",
       "      <td>2.00000</td>\n",
       "      <td>1.000000</td>\n",
       "      <td>1.00000</td>\n",
       "    </tr>\n",
       "    <tr>\n",
       "      <td>50%</td>\n",
       "      <td>4.00000</td>\n",
       "      <td>3.000000</td>\n",
       "      <td>1.00000</td>\n",
       "    </tr>\n",
       "    <tr>\n",
       "      <td>75%</td>\n",
       "      <td>8.00000</td>\n",
       "      <td>9.000000</td>\n",
       "      <td>2.00000</td>\n",
       "    </tr>\n",
       "    <tr>\n",
       "      <td>max</td>\n",
       "      <td>16.00000</td>\n",
       "      <td>27.000000</td>\n",
       "      <td>4.00000</td>\n",
       "    </tr>\n",
       "  </tbody>\n",
       "</table>\n",
       "</div>"
      ],
      "text/plain": [
       "              A          B        C\n",
       "count   5.00000   5.000000  5.00000\n",
       "mean    6.20000   8.200000  1.80000\n",
       "std     6.09918  11.009087  1.30384\n",
       "min     1.00000   1.000000  1.00000\n",
       "25%     2.00000   1.000000  1.00000\n",
       "50%     4.00000   3.000000  1.00000\n",
       "75%     8.00000   9.000000  2.00000\n",
       "max    16.00000  27.000000  4.00000"
      ]
     },
     "execution_count": 98,
     "metadata": {},
     "output_type": "execute_result"
    }
   ],
   "source": [
    "df.describe()"
   ]
  },
  {
   "cell_type": "code",
   "execution_count": 96,
   "metadata": {},
   "outputs": [
    {
     "data": {
      "text/html": [
       "<div>\n",
       "<style scoped>\n",
       "    .dataframe tbody tr th:only-of-type {\n",
       "        vertical-align: middle;\n",
       "    }\n",
       "\n",
       "    .dataframe tbody tr th {\n",
       "        vertical-align: top;\n",
       "    }\n",
       "\n",
       "    .dataframe thead th {\n",
       "        text-align: right;\n",
       "    }\n",
       "</style>\n",
       "<table border=\"1\" class=\"dataframe\">\n",
       "  <thead>\n",
       "    <tr style=\"text-align: right;\">\n",
       "      <th></th>\n",
       "      <th>A</th>\n",
       "      <th>B</th>\n",
       "      <th>C</th>\n",
       "    </tr>\n",
       "  </thead>\n",
       "  <tbody>\n",
       "    <tr>\n",
       "      <td>first</td>\n",
       "      <td>1</td>\n",
       "      <td>1</td>\n",
       "      <td>1</td>\n",
       "    </tr>\n",
       "    <tr>\n",
       "      <td>second</td>\n",
       "      <td>2</td>\n",
       "      <td>3</td>\n",
       "      <td>1</td>\n",
       "    </tr>\n",
       "    <tr>\n",
       "      <td>third</td>\n",
       "      <td>4</td>\n",
       "      <td>9</td>\n",
       "      <td>2</td>\n",
       "    </tr>\n",
       "    <tr>\n",
       "      <td>fourth</td>\n",
       "      <td>8</td>\n",
       "      <td>27</td>\n",
       "      <td>4</td>\n",
       "    </tr>\n",
       "    <tr>\n",
       "      <td>fifth</td>\n",
       "      <td>16</td>\n",
       "      <td>1</td>\n",
       "      <td>1</td>\n",
       "    </tr>\n",
       "  </tbody>\n",
       "</table>\n",
       "</div>"
      ],
      "text/plain": [
       "         A   B  C\n",
       "first    1   1  1\n",
       "second   2   3  1\n",
       "third    4   9  2\n",
       "fourth   8  27  4\n",
       "fifth   16   1  1"
      ]
     },
     "execution_count": 96,
     "metadata": {},
     "output_type": "execute_result"
    }
   ],
   "source": [
    "df"
   ]
  },
  {
   "cell_type": "code",
   "execution_count": 100,
   "metadata": {},
   "outputs": [],
   "source": [
    "#Data Visualization\n",
    "import matplotlib.pyplot as plt\n",
    "plt.style.use('ggplot')"
   ]
  },
  {
   "cell_type": "code",
   "execution_count": 101,
   "metadata": {},
   "outputs": [
    {
     "name": "stdout",
     "output_type": "stream",
     "text": [
      "You’ll use pseudo-random numbers to get data to work with. You don’t need knowledge on random numbers to be able to understand this section. You just need some arbitrary numbers, and pseudo-random generators are a convenient tool to get them. The module np.random generates arrays of pseudo-random numbers:\n",
      "\n",
      "Normally distributed numbers are generated with np.random.randn().\n",
      "Uniformly distributed integers are generated with np.random.randint().\n"
     ]
    }
   ],
   "source": [
    "print(\"\"\"You’ll use pseudo-random numbers to get data to work with. You don’t need knowledge on random numbers to be able to understand this section. You just need some arbitrary numbers, and pseudo-random generators are a convenient tool to get them. The module np.random generates arrays of pseudo-random numbers:\n",
    "\n",
    "Normally distributed numbers are generated with np.random.randn().\n",
    "Uniformly distributed integers are generated with np.random.randint().\"\"\")"
   ]
  },
  {
   "cell_type": "code",
   "execution_count": 103,
   "metadata": {},
   "outputs": [
    {
     "name": "stdout",
     "output_type": "stream",
     "text": [
      "The box plot is an excellent tool to visually represent descriptive statistics of a given dataset. It can show the range, interquartile range, median, mode, outliers, and all quartiles.\n"
     ]
    }
   ],
   "source": [
    "#Box Plot\n",
    "print(\"\"\"The box plot is an excellent tool to visually represent descriptive statistics of a given dataset. It can show the range, interquartile range, median, mode, outliers, and all quartiles.\"\"\")"
   ]
  },
  {
   "cell_type": "code",
   "execution_count": 105,
   "metadata": {},
   "outputs": [
    {
     "name": "stdout",
     "output_type": "stream",
     "text": [
      "The first statement sets the seed of the NumPy random number generator with seed(), so you can get the same results each time you run the code. You don’t have to set the seed, but if you don’t specify this value, then you’ll get different results each time.\n"
     ]
    }
   ],
   "source": [
    "np.random.seed(seed=0)\n",
    "x = np.random.randn(1000)\n",
    "y = np.random.randn(100)\n",
    "z = np.random.randn(10)\n",
    "print(\"\"\"The first statement sets the seed of the NumPy random number generator with seed(), so you can get the same results each time you run the code. You don’t have to set the seed, but if you don’t specify this value, then you’ll get different results each time.\"\"\")"
   ]
  },
  {
   "cell_type": "code",
   "execution_count": 106,
   "metadata": {},
   "outputs": [
    {
     "data": {
      "image/png": "[encoded data removed]",
      "text/plain": [
       "<Figure size 432x288 with 1 Axes>"
      ]
     },
     "metadata": {},
     "output_type": "display_data"
    }
   ],
   "source": [
    "fig,ax = plt.subplots()"
   ]
  },
  {
   "cell_type": "code",
   "execution_count": 114,
   "metadata": {},
   "outputs": [
    {
     "data": {
      "image/png": "[encoded data removed]",
      "text/plain": [
       "<Figure size 432x288 with 1 Axes>"
      ]
     },
     "metadata": {},
     "output_type": "display_data"
    }
   ],
   "source": [
    "fig, ax = plt.subplots()\n",
    "ax.boxplot((x, y, z), vert=False, showmeans=True, meanline=True,\n",
    "           labels=('x', 'y', 'z'), patch_artist=True,\n",
    "           medianprops={'linewidth': 2, 'color': 'purple'},\n",
    "           meanprops={'linewidth': 2, 'color': 'red'})\n",
    "plt.show()"
   ]
  },
  {
   "cell_type": "code",
   "execution_count": 111,
   "metadata": {},
   "outputs": [
    {
     "name": "stdout",
     "output_type": "stream",
     "text": [
      "x is your data.\n",
      "vert sets the plot orientation to horizontal when False. The default orientation is vertical.\n",
      "showmeans shows the mean of your data when True.\n",
      "meanline represents the mean as a line when True. The default representation is a point.\n",
      "labels: the labels of your data.\n",
      "patch_artist determines how to draw the graph.\n",
      "medianprops denotes the properties of the line representing the median.\n",
      "meanprops indicates the properties of the line or dot representing the mean.\n"
     ]
    }
   ],
   "source": [
    "print(\"\"\"x is your data.\n",
    "vert sets the plot orientation to horizontal when False. The default orientation is vertical.\n",
    "showmeans shows the mean of your data when True.\n",
    "meanline represents the mean as a line when True. The default representation is a point.\n",
    "labels: the labels of your data.\n",
    "patch_artist determines how to draw the graph.\n",
    "medianprops denotes the properties of the line representing the median.\n",
    "meanprops indicates the properties of the line or dot representing the mean.\"\"\")"
   ]
  },
  {
   "cell_type": "code",
   "execution_count": 112,
   "metadata": {},
   "outputs": [
    {
     "name": "stdout",
     "output_type": "stream",
     "text": [
      "You can see three box plots. Each of them corresponds to a single dataset (x, y, or z) and show the following:\n",
      "\n",
      "The mean is the red dashed line.\n",
      "The median is the purple line.\n",
      "The first quartile is the left edge of the blue rectangle.\n",
      "The third quartile is the right edge of the blue rectangle.\n",
      "The interquartile range is the length of the blue rectangle.\n",
      "The range contains everything from left to right.\n",
      "The outliers are the dots to the left and right.\n"
     ]
    }
   ],
   "source": [
    "print(\"\"\"You can see three box plots. Each of them corresponds to a single dataset (x, y, or z) and show the following:\n",
    "\n",
    "The mean is the red dashed line.\n",
    "The median is the purple line.\n",
    "The first quartile is the left edge of the blue rectangle.\n",
    "The third quartile is the right edge of the blue rectangle.\n",
    "The interquartile range is the length of the blue rectangle.\n",
    "The range contains everything from left to right.\n",
    "The outliers are the dots to the left and right.\"\"\")"
   ]
  },
  {
   "cell_type": "code",
   "execution_count": 115,
   "metadata": {},
   "outputs": [
    {
     "name": "stdout",
     "output_type": "stream",
     "text": [
      "Histograms are particularly useful when there are a large number of unique values in a dataset. The histogram divides the values from a sorted dataset into intervals, also called bins. Often, all bins are of equal width, though this doesn’t have to be the case. The values of the lower and upper bounds of a bin are called the bin edges.\n",
      "\n",
      "The frequency is a single value that corresponds to each bin. It’s the number of elements of the dataset with the values between the edges of the bin. By convention, all bins but the rightmost one are half-open. They include the values equal to the lower bounds, but exclude the values equal to the upper bounds. The rightmost bin is closed because it includes both bounds. If you divide a dataset with the bin edges 0, 5, 10, and 15, then there are three bins:\n",
      "\n",
      "The first and leftmost bin contains the values greater than or equal to 0 and less than 5.\n",
      "The second bin contains the values greater than or equal to 5 and less than 10.\n",
      "The third and rightmost bin contains the values greater than or equal to 10 and less than or equal to 15.\n"
     ]
    }
   ],
   "source": [
    "#Histograms\n",
    "print(\"\"\"Histograms are particularly useful when there are a large number of unique values in a dataset. The histogram divides the values from a sorted dataset into intervals, also called bins. Often, all bins are of equal width, though this doesn’t have to be the case. The values of the lower and upper bounds of a bin are called the bin edges.\n",
    "\n",
    "The frequency is a single value that corresponds to each bin. It’s the number of elements of the dataset with the values between the edges of the bin. By convention, all bins but the rightmost one are half-open. They include the values equal to the lower bounds, but exclude the values equal to the upper bounds. The rightmost bin is closed because it includes both bounds. If you divide a dataset with the bin edges 0, 5, 10, and 15, then there are three bins:\n",
    "\n",
    "The first and leftmost bin contains the values greater than or equal to 0 and less than 5.\n",
    "The second bin contains the values greater than or equal to 5 and less than 10.\n",
    "The third and rightmost bin contains the values greater than or equal to 10 and less than or equal to 15.\"\"\")"
   ]
  },
  {
   "cell_type": "code",
   "execution_count": 120,
   "metadata": {},
   "outputs": [
    {
     "data": {
      "text/plain": [
       "array([  9,  20,  70, 146, 217, 239, 160,  86,  38,  15], dtype=int64)"
      ]
     },
     "execution_count": 120,
     "metadata": {},
     "output_type": "execute_result"
    }
   ],
   "source": [
    "#The function np.histogram() is a convenient way to get data for histograms:\n",
    "hist,bin_edges = np.histogram(x,bins=10)\n",
    "hist"
   ]
  },
  {
   "cell_type": "code",
   "execution_count": 121,
   "metadata": {},
   "outputs": [
    {
     "data": {
      "text/plain": [
       "array([ 1.76405235e+00,  4.00157208e-01,  9.78737984e-01,  2.24089320e+00,\n",
       "        1.86755799e+00, -9.77277880e-01,  9.50088418e-01, -1.51357208e-01,\n",
       "       -1.03218852e-01,  4.10598502e-01,  1.44043571e-01,  1.45427351e+00,\n",
       "        7.61037725e-01,  1.21675016e-01,  4.43863233e-01,  3.33674327e-01,\n",
       "        1.49407907e+00, -2.05158264e-01,  3.13067702e-01, -8.54095739e-01,\n",
       "       -2.55298982e+00,  6.53618595e-01,  8.64436199e-01, -7.42165020e-01,\n",
       "        2.26975462e+00, -1.45436567e+00,  4.57585173e-02, -1.87183850e-01,\n",
       "        1.53277921e+00,  1.46935877e+00,  1.54947426e-01,  3.78162520e-01,\n",
       "       -8.87785748e-01, -1.98079647e+00, -3.47912149e-01,  1.56348969e-01,\n",
       "        1.23029068e+00,  1.20237985e+00, -3.87326817e-01, -3.02302751e-01,\n",
       "       -1.04855297e+00, -1.42001794e+00, -1.70627019e+00,  1.95077540e+00,\n",
       "       -5.09652182e-01, -4.38074302e-01, -1.25279536e+00,  7.77490356e-01,\n",
       "       -1.61389785e+00, -2.12740280e-01, -8.95466561e-01,  3.86902498e-01,\n",
       "       -5.10805138e-01, -1.18063218e+00, -2.81822283e-02,  4.28331871e-01,\n",
       "        6.65172224e-02,  3.02471898e-01, -6.34322094e-01, -3.62741166e-01,\n",
       "       -6.72460448e-01, -3.59553162e-01, -8.13146282e-01, -1.72628260e+00,\n",
       "        1.77426142e-01, -4.01780936e-01, -1.63019835e+00,  4.62782256e-01,\n",
       "       -9.07298364e-01,  5.19453958e-02,  7.29090562e-01,  1.28982911e-01,\n",
       "        1.13940068e+00, -1.23482582e+00,  4.02341641e-01, -6.84810091e-01,\n",
       "       -8.70797149e-01, -5.78849665e-01, -3.11552532e-01,  5.61653422e-02,\n",
       "       -1.16514984e+00,  9.00826487e-01,  4.65662440e-01, -1.53624369e+00,\n",
       "        1.48825219e+00,  1.89588918e+00,  1.17877957e+00, -1.79924836e-01,\n",
       "       -1.07075262e+00,  1.05445173e+00, -4.03176947e-01,  1.22244507e+00,\n",
       "        2.08274978e-01,  9.76639036e-01,  3.56366397e-01,  7.06573168e-01,\n",
       "        1.05000207e-02,  1.78587049e+00,  1.26912093e-01,  4.01989363e-01,\n",
       "        1.88315070e+00, -1.34775906e+00, -1.27048500e+00,  9.69396708e-01,\n",
       "       -1.17312341e+00,  1.94362119e+00, -4.13618981e-01, -7.47454811e-01,\n",
       "        1.92294203e+00,  1.48051479e+00,  1.86755896e+00,  9.06044658e-01,\n",
       "       -8.61225685e-01,  1.91006495e+00, -2.68003371e-01,  8.02456396e-01,\n",
       "        9.47251968e-01, -1.55010093e-01,  6.14079370e-01,  9.22206672e-01,\n",
       "        3.76425531e-01, -1.09940079e+00,  2.98238174e-01,  1.32638590e+00,\n",
       "       -6.94567860e-01, -1.49634540e-01, -4.35153552e-01,  1.84926373e+00,\n",
       "        6.72294757e-01,  4.07461836e-01, -7.69916074e-01,  5.39249191e-01,\n",
       "       -6.74332661e-01,  3.18305583e-02, -6.35846078e-01,  6.76433295e-01,\n",
       "        5.76590817e-01, -2.08298756e-01,  3.96006713e-01, -1.09306151e+00,\n",
       "       -1.49125759e+00,  4.39391701e-01,  1.66673495e-01,  6.35031437e-01,\n",
       "        2.38314477e+00,  9.44479487e-01, -9.12822225e-01,  1.11701629e+00,\n",
       "       -1.31590741e+00, -4.61584605e-01, -6.82416053e-02,  1.71334272e+00,\n",
       "       -7.44754822e-01, -8.26438539e-01, -9.84525244e-02, -6.63478286e-01,\n",
       "        1.12663592e+00, -1.07993151e+00, -1.14746865e+00, -4.37820045e-01,\n",
       "       -4.98032451e-01,  1.92953205e+00,  9.49420807e-01,  8.75512414e-02,\n",
       "       -1.22543552e+00,  8.44362976e-01, -1.00021535e+00, -1.54477110e+00,\n",
       "        1.18802979e+00,  3.16942612e-01,  9.20858824e-01,  3.18727653e-01,\n",
       "        8.56830612e-01, -6.51025593e-01, -1.03424284e+00,  6.81594518e-01,\n",
       "       -8.03409664e-01, -6.89549778e-01, -4.55532504e-01,  1.74791590e-02,\n",
       "       -3.53993911e-01, -1.37495129e+00, -6.43618403e-01, -2.22340315e+00,\n",
       "        6.25231451e-01, -1.60205766e+00, -1.10438334e+00,  5.21650793e-02,\n",
       "       -7.39562996e-01,  1.54301460e+00, -1.29285691e+00,  2.67050869e-01,\n",
       "       -3.92828182e-02, -1.16809350e+00,  5.23276661e-01, -1.71546331e-01,\n",
       "        7.71790551e-01,  8.23504154e-01,  2.16323595e+00,  1.33652795e+00,\n",
       "       -3.69181838e-01, -2.39379178e-01,  1.09965960e+00,  6.55263731e-01,\n",
       "        6.40131526e-01, -1.61695604e+00, -2.43261244e-02, -7.38030909e-01,\n",
       "        2.79924599e-01, -9.81503896e-02,  9.10178908e-01,  3.17218215e-01,\n",
       "        7.86327962e-01, -4.66419097e-01, -9.44446256e-01, -4.10049693e-01,\n",
       "       -1.70204139e-02,  3.79151736e-01,  2.25930895e+00, -4.22571517e-02,\n",
       "       -9.55945000e-01, -3.45981776e-01, -4.63595975e-01,  4.81481474e-01,\n",
       "       -1.54079701e+00,  6.32619942e-02,  1.56506538e-01,  2.32181036e-01,\n",
       "       -5.97316069e-01, -2.37921730e-01, -1.42406091e+00, -4.93319883e-01,\n",
       "       -5.42861476e-01,  4.16050046e-01, -1.15618243e+00,  7.81198102e-01,\n",
       "        1.49448454e+00, -2.06998503e+00,  4.26258731e-01,  6.76908035e-01,\n",
       "       -6.37437026e-01, -3.97271814e-01, -1.32880578e-01, -2.97790879e-01,\n",
       "       -3.09012969e-01, -1.67600381e+00,  1.15233156e+00,  1.07961859e+00,\n",
       "       -8.13364259e-01, -1.46642433e+00,  5.21064876e-01, -5.75787970e-01,\n",
       "        1.41953163e-01, -3.19328417e-01,  6.91538751e-01,  6.94749144e-01,\n",
       "       -7.25597378e-01, -1.38336396e+00, -1.58293840e+00,  6.10379379e-01,\n",
       "       -1.18885926e+00, -5.06816354e-01, -5.96314038e-01, -5.25672963e-02,\n",
       "       -1.93627981e+00,  1.88778597e-01,  5.23891024e-01,  8.84220870e-02,\n",
       "       -3.10886172e-01,  9.74001663e-02,  3.99046346e-01, -2.77259276e+00,\n",
       "        1.95591231e+00,  3.90093323e-01, -6.52408582e-01, -3.90953375e-01,\n",
       "        4.93741777e-01, -1.16103939e-01, -2.03068447e+00,  2.06449286e+00,\n",
       "       -1.10540657e-01,  1.02017271e+00, -6.92049848e-01,  1.53637705e+00,\n",
       "        2.86343689e-01,  6.08843834e-01, -1.04525337e+00,  1.21114529e+00,\n",
       "        6.89818165e-01,  1.30184623e+00, -6.28087560e-01, -4.81027118e-01,\n",
       "        2.30391670e+00, -1.06001582e+00, -1.35949701e-01,  1.13689136e+00,\n",
       "        9.77249677e-02,  5.82953680e-01, -3.99449029e-01,  3.70055888e-01,\n",
       "       -1.30652685e+00,  1.65813068e+00, -1.18164045e-01, -6.80178204e-01,\n",
       "        6.66383082e-01, -4.60719787e-01, -1.33425847e+00, -1.34671751e+00,\n",
       "        6.93773153e-01, -1.59573438e-01, -1.33701560e-01,  1.07774381e+00,\n",
       "       -1.12682581e+00, -7.30677753e-01, -3.84879809e-01,  9.43515893e-02,\n",
       "       -4.21714513e-02, -2.86887192e-01, -6.16264021e-02, -1.07305276e-01,\n",
       "       -7.19604389e-01, -8.12992989e-01,  2.74516358e-01, -8.90915083e-01,\n",
       "       -1.15735526e+00, -3.12292251e-01, -1.57667016e-01,  2.25672350e+00,\n",
       "       -7.04700276e-01,  9.43260725e-01,  7.47188334e-01, -1.18894496e+00,\n",
       "        7.73252977e-01, -1.18388064e+00, -2.65917224e+00,  6.06319524e-01,\n",
       "       -1.75589058e+00,  4.50934462e-01, -6.84010898e-01,  1.65955080e+00,\n",
       "        1.06850940e+00, -4.53385804e-01, -6.87837611e-01, -1.21407740e+00,\n",
       "       -4.40922632e-01, -2.80355495e-01, -3.64693544e-01,  1.56703855e-01,\n",
       "        5.78521498e-01,  3.49654457e-01, -7.64143924e-01, -1.43779147e+00,\n",
       "        1.36453185e+00, -6.89449185e-01, -6.52293600e-01, -5.21189312e-01,\n",
       "       -1.84306955e+00, -4.77974004e-01, -4.79655814e-01,  6.20358298e-01,\n",
       "        6.98457149e-01,  3.77088909e-03,  9.31848374e-01,  3.39964984e-01,\n",
       "       -1.56821116e-02,  1.60928168e-01, -1.90653494e-01, -3.94849514e-01,\n",
       "       -2.67733537e-01, -1.12801133e+00,  2.80441705e-01, -9.93123611e-01,\n",
       "        8.41631264e-01, -2.49458580e-01,  4.94949817e-02,  4.93836776e-01,\n",
       "        6.43314465e-01, -1.57062341e+00, -2.06903676e-01,  8.80178912e-01,\n",
       "       -1.69810582e+00,  3.87280475e-01, -2.25556423e+00, -1.02250684e+00,\n",
       "        3.86305518e-02, -1.65671510e+00, -9.85510738e-01, -1.47183501e+00,\n",
       "        1.64813493e+00,  1.64227755e-01,  5.67290278e-01, -2.22675101e-01,\n",
       "       -3.53431749e-01, -1.61647419e+00, -2.91837363e-01, -7.61492212e-01,\n",
       "        8.57923924e-01,  1.14110187e+00,  1.46657872e+00,  8.52551939e-01,\n",
       "       -5.98653937e-01, -1.11589699e+00,  7.66663182e-01,  3.56292817e-01,\n",
       "       -1.76853845e+00,  3.55481793e-01,  8.14519822e-01,  5.89255892e-02,\n",
       "       -1.85053671e-01, -8.07648488e-01, -1.44653470e+00,  8.00297949e-01,\n",
       "       -3.09114445e-01, -2.33466662e-01,  1.73272119e+00,  6.84501107e-01,\n",
       "        3.70825001e-01,  1.42061805e-01,  1.51999486e+00,  1.71958931e+00,\n",
       "        9.29505111e-01,  5.82224591e-01, -2.09460307e+00,  1.23721914e-01,\n",
       "       -1.30106954e-01,  9.39532294e-02,  9.43046087e-01, -2.73967717e+00,\n",
       "       -5.69312053e-01,  2.69904355e-01, -4.66845546e-01, -1.41690611e+00,\n",
       "        8.68963487e-01,  2.76871906e-01, -9.71104570e-01,  3.14817205e-01,\n",
       "        8.21585712e-01,  5.29264630e-03,  8.00564803e-01,  7.82601752e-02,\n",
       "       -3.95228983e-01, -1.15942052e+00, -8.59307670e-02,  1.94292938e-01,\n",
       "        8.75832762e-01, -1.15107468e-01,  4.57415606e-01, -9.64612014e-01,\n",
       "       -7.82629156e-01, -1.10389299e-01, -1.05462846e+00,  8.20247837e-01,\n",
       "        4.63130329e-01,  2.79095764e-01,  3.38904125e-01,  2.02104356e+00,\n",
       "       -4.68864188e-01, -2.20144129e+00,  1.99300197e-01, -5.06035410e-02,\n",
       "       -5.17519043e-01, -9.78829859e-01, -4.39189522e-01,  1.81338429e-01,\n",
       "       -5.02816701e-01,  2.41245368e+00, -9.60504382e-01, -7.93117363e-01,\n",
       "       -2.28862004e+00,  2.51484415e-01, -2.01640663e+00, -5.39454633e-01,\n",
       "       -2.75670535e-01, -7.09727966e-01,  1.73887268e+00,  9.94394391e-01,\n",
       "        1.31913688e+00, -8.82418819e-01,  1.12859406e+00,  4.96000946e-01,\n",
       "        7.71405949e-01,  1.02943883e+00, -9.08763246e-01, -4.24317621e-01,\n",
       "        8.62596011e-01, -2.65561909e+00,  1.51332808e+00,  5.53132064e-01,\n",
       "       -4.57039607e-02,  2.20507656e-01, -1.02993528e+00, -3.49943365e-01,\n",
       "        1.10028434e+00,  1.29802197e+00,  2.69622405e+00, -7.39246663e-02,\n",
       "       -6.58552967e-01, -5.14233966e-01, -1.01804188e+00, -7.78547559e-02,\n",
       "        3.82732430e-01, -3.42422805e-02,  1.09634685e+00, -2.34215801e-01,\n",
       "       -3.47450652e-01, -5.81268477e-01, -1.63263453e+00, -1.56776772e+00,\n",
       "       -1.17915793e+00,  1.30142807e+00,  8.95260273e-01,  1.37496407e+00,\n",
       "       -1.33221165e+00, -1.96862469e+00, -6.60056320e-01,  1.75818953e-01,\n",
       "        4.98690275e-01,  1.04797216e+00,  2.84279671e-01,  1.74266878e+00,\n",
       "       -2.22605681e-01, -9.13079218e-01, -1.68121822e+00, -8.88971358e-01,\n",
       "        2.42117961e-01, -8.88720257e-01,  9.36742464e-01,  1.41232771e+00,\n",
       "       -2.36958691e+00,  8.64052300e-01, -2.23960406e+00,  4.01499055e-01,\n",
       "        1.22487056e+00,  6.48561063e-02, -1.27968917e+00, -5.85431204e-01,\n",
       "       -2.61645446e-01, -1.82244784e-01, -2.02896841e-01, -1.09882779e-01,\n",
       "        2.13480049e-01, -1.20857365e+00, -2.42019830e-01,  1.51826117e+00,\n",
       "       -3.84645423e-01, -4.43836093e-01,  1.07819730e+00, -2.55918467e+00,\n",
       "        1.18137860e+00, -6.31903758e-01,  1.63928572e-01,  9.63213559e-02,\n",
       "        9.42468119e-01, -2.67594746e-01, -6.78025782e-01,  1.29784579e+00,\n",
       "       -2.36417382e+00,  2.03341817e-02, -1.34792542e+00, -7.61573388e-01,\n",
       "        2.01125668e+00, -4.45954265e-02,  1.95069697e-01, -1.78156286e+00,\n",
       "       -7.29044659e-01,  1.96557401e-01,  3.54757693e-01,  6.16886554e-01,\n",
       "        8.62789892e-03,  5.27004208e-01,  4.53781913e-01, -1.82974041e+00,\n",
       "        3.70057219e-02,  7.67902408e-01,  5.89879821e-01, -3.63858810e-01,\n",
       "       -8.05626508e-01, -1.11831192e+00, -1.31054012e-01,  1.13307988e+00,\n",
       "       -1.95180410e+00, -6.59891730e-01, -1.13980246e+00,  7.84957521e-01,\n",
       "       -5.54309627e-01, -4.70637658e-01, -2.16949570e-01,  4.45393251e-01,\n",
       "       -3.92388998e-01, -3.04614305e+00,  5.43311891e-01,  4.39042958e-01,\n",
       "       -2.19541028e-01, -1.08403662e+00,  3.51780111e-01,  3.79235534e-01,\n",
       "       -4.70032883e-01, -2.16731471e-01, -9.30156503e-01, -1.78589092e-01,\n",
       "       -1.55042935e+00,  4.17318821e-01, -9.44368491e-01,  2.38103148e-01,\n",
       "       -1.40596292e+00, -5.90057646e-01, -1.10489405e-01, -1.66069981e+00,\n",
       "        1.15147873e-01, -3.79147563e-01, -1.74235620e+00, -1.30324275e+00,\n",
       "        6.05120084e-01,  8.95555986e-01, -1.31908640e-01,  4.04761812e-01,\n",
       "        2.23843563e-01,  3.29622982e-01,  1.28598401e+00, -1.50699840e+00,\n",
       "        6.76460732e-01, -3.82008956e-01, -2.24258934e-01, -3.02249730e-01,\n",
       "       -3.75147117e-01, -1.22619619e+00,  1.83339199e-01,  1.67094303e+00,\n",
       "       -5.61330204e-02, -1.38504274e-03, -6.87299037e-01, -1.17474546e-01,\n",
       "        4.66166426e-01, -3.70242441e-01, -4.53804041e-01,  4.03264540e-01,\n",
       "       -9.18004770e-01,  2.52496627e-01,  8.20321797e-01,  1.35994854e+00,\n",
       "       -9.03820073e-02,  1.36759724e+00,  1.03440989e+00, -9.96212640e-01,\n",
       "       -1.21793851e+00, -3.04963638e-01,  1.02893549e+00, -7.22870076e-02,\n",
       "       -6.00657558e-01,  1.55224318e+00,  2.86904488e-01, -2.32059428e+00,\n",
       "        3.17160626e-01,  5.20040615e-01,  2.25608654e-01,  4.49712100e-01,\n",
       "       -6.72756089e-02, -1.31839587e+00, -3.70704003e-01, -9.45615796e-01,\n",
       "       -9.32740911e-01, -1.26306835e+00,  4.52489093e-01,  9.78961454e-02,\n",
       "       -4.48165363e-01, -6.49337928e-01, -2.34231050e-02,  1.07919473e+00,\n",
       "       -2.00421572e+00,  3.76876521e-01, -5.45711974e-01, -1.88458584e+00,\n",
       "       -1.94570308e+00, -9.12783494e-01,  2.19509556e-01,  3.93062934e-01,\n",
       "       -9.38981573e-01,  1.01702099e+00,  1.42298350e+00,  3.96086585e-01,\n",
       "       -5.91402668e-01,  1.12441918e+00,  7.55395696e-01,  8.67407411e-01,\n",
       "       -6.56463675e-01, -2.83455451e+00,  2.11679102e+00, -1.61087840e+00,\n",
       "       -3.57680719e-02,  2.38074535e+00,  3.30576756e-01,  9.49246474e-01,\n",
       "       -1.50239657e+00, -1.77766695e+00, -5.32702792e-01,  1.09074973e+00,\n",
       "       -3.46249448e-01, -7.94636321e-01,  1.97967290e-01,  1.08193522e+00,\n",
       "       -1.44494020e+00, -1.21054299e+00, -7.88669255e-01,  1.09463837e+00,\n",
       "        2.34821526e-01,  2.13215341e+00,  9.36445726e-01, -3.50951769e-02,\n",
       "        1.26507784e+00,  2.11497013e-01, -7.04921353e-01,  6.79974844e-01,\n",
       "       -6.96326654e-01, -2.90397101e-01,  1.32778270e+00, -1.01281486e-01,\n",
       "       -8.03141387e-01, -4.64337691e-01,  1.02179059e+00, -5.52540673e-01,\n",
       "       -3.86870847e-01, -5.10292740e-01,  1.83925494e-01, -3.85489760e-01,\n",
       "       -1.60183605e+00, -8.87180942e-01, -9.32789042e-01,  1.24331938e+00,\n",
       "        8.12674042e-01,  5.87259379e-01, -5.05358317e-01, -8.15791542e-01,\n",
       "       -5.07517602e-01, -1.05188010e+00,  2.49720039e+00, -2.24532165e+00,\n",
       "        5.64008535e-01, -1.28455230e+00, -1.04343491e-01, -9.88001942e-01,\n",
       "       -1.17762896e+00, -1.14019630e+00,  1.75498615e+00, -1.32988422e-01,\n",
       "       -7.65702194e-01,  5.55786964e-01,  1.03493146e-02,  7.20033759e-01,\n",
       "       -1.82425666e+00,  3.03603904e-01,  7.72694837e-01, -1.66159829e+00,\n",
       "        4.48195284e-01,  1.69618157e+00, -1.48577034e-02,  8.21405937e-01,\n",
       "        6.70570450e-01, -7.07505698e-01,  3.97667346e-02, -1.56699471e+00,\n",
       "       -4.51303037e-01,  2.65687975e-01,  7.23100494e-01,  2.46121252e-02,\n",
       "        7.19983730e-01, -1.10290621e+00, -1.01697275e-01,  1.92793845e-02,\n",
       "        1.84959125e+00, -2.14166656e-01, -4.99016638e-01,  2.13512238e-02,\n",
       "       -9.19113445e-01,  1.92753849e-01, -3.65055217e-01, -1.79132755e+00,\n",
       "       -5.85865511e-02, -3.17543094e-01, -1.63242330e+00, -6.71341546e-02,\n",
       "        1.48935596e+00,  5.21303748e-01,  6.11927193e-01, -1.34149673e+00,\n",
       "        4.76898369e-01,  1.48449581e-01,  5.29045238e-01,  4.22628622e-01,\n",
       "       -1.35978073e+00, -4.14008116e-02, -7.57870860e-01, -5.00840943e-02,\n",
       "       -8.97400927e-01,  1.31247037e+00, -8.58972388e-01, -8.98942156e-01,\n",
       "        7.45864065e-02, -1.07709907e+00, -4.24663302e-01, -8.29964598e-01,\n",
       "        1.41117206e+00,  7.85803827e-01, -5.74695185e-02, -3.91217052e-01,\n",
       "        9.40917615e-01,  4.05204080e-01,  4.98052405e-01, -2.61922373e-02,\n",
       "       -1.68823003e+00, -1.12465983e-01, -5.32489919e-01,  6.45055273e-01,\n",
       "        1.01184243e+00, -6.57951045e-01,  4.68385234e-01,  1.73587900e+00,\n",
       "       -6.67712721e-01,  1.68192174e+00, -8.52585847e-01,  2.29597556e-02,\n",
       "       -1.11456118e-02,  1.14988999e-02, -8.37678042e-01, -5.91183104e-01,\n",
       "       -6.67720286e-01,  3.26962595e-01,  3.30035115e-01,  2.22594433e+00,\n",
       "        1.37098901e+00, -5.09843242e-01,  3.24869616e-01,  9.97117981e-01,\n",
       "        3.06018243e-02, -6.96415784e-02,  5.15749428e-02,  8.67276629e-01,\n",
       "       -8.48320523e-01, -3.25669469e-01,  4.70433145e-01,  3.11447072e-01,\n",
       "        2.39582760e-01, -3.69801166e-01,  9.72535789e-01,  2.13386825e+00,\n",
       "        4.06415494e-01, -1.93176702e-01,  7.55740289e-01, -5.39132637e-01,\n",
       "       -7.49690345e-01,  3.28087476e-02, -2.58279663e+00, -1.15395036e+00,\n",
       "       -3.47961856e-01, -1.35338886e+00, -1.03264310e+00, -4.36748337e-01,\n",
       "       -1.64296529e+00, -4.06071796e-01, -5.35270165e-01,  2.54052084e-02,\n",
       "        1.15418403e+00,  1.72504416e-01,  2.10620213e-02,  9.94544570e-02,\n",
       "        2.27392775e-01, -1.01673865e+00, -1.14775325e-01,  3.08751242e-01,\n",
       "       -1.37075998e+00,  8.65652923e-01,  1.08137603e+00, -6.31375988e-01,\n",
       "       -2.41337791e-01, -8.78190343e-01,  6.99380484e-01, -1.06122229e+00,\n",
       "       -2.22477010e-01, -8.58919908e-01,  5.09542770e-02, -1.79422927e+00,\n",
       "        1.32646164e+00, -9.64606424e-01,  5.98946831e-02, -2.12523045e-01,\n",
       "       -7.62114512e-01, -8.87780137e-01,  9.36398544e-01, -5.25640593e-01,\n",
       "        2.71170185e-01, -8.01496885e-01, -6.47181432e-01,  4.72247150e-01,\n",
       "        9.30408496e-01, -1.75316402e-01, -1.42191987e+00,  1.99795608e+00,\n",
       "       -8.56549308e-01, -1.54158740e+00,  2.59442459e+00, -4.04032294e-01,\n",
       "       -1.46173269e+00, -6.83439767e-01,  3.67544896e-01,  1.90311558e-01,\n",
       "       -8.51729197e-01,  1.82272360e+00, -5.21579678e-01, -1.18468659e+00,\n",
       "        9.60693398e-01,  1.32906285e+00, -8.17493098e-01, -1.40134729e+00,\n",
       "        1.03043827e+00, -2.04732361e+00, -1.22662166e+00,  9.67446150e-01,\n",
       "       -5.53525480e-02, -2.63937349e-01,  3.52816606e-01, -1.52774424e-01,\n",
       "       -1.29868672e+00,  1.27607535e+00,  1.32501405e+00,  2.05332564e-01,\n",
       "        4.51340154e-02,  2.33962481e+00, -2.76432845e-01, -2.59576982e-01,\n",
       "        3.64481249e-01,  1.47132196e+00,  1.59277075e+00, -2.58572632e-01,\n",
       "        3.08331246e-01, -1.37808347e+00, -3.11976108e-01, -8.40290395e-01,\n",
       "       -1.00683175e+00,  1.68157672e+00, -7.92286662e-01, -5.31605908e-01,\n",
       "        3.65848788e-01,  1.29782527e+00,  4.81115126e-01,  2.75935511e+00,\n",
       "       -7.46679783e-02,  2.58716440e-01,  2.75600674e-01,  1.43504939e+00,\n",
       "        5.07238951e-01, -1.16229700e-01, -9.47488595e-01,  2.44443456e-01,\n",
       "        1.40134483e+00, -4.10381794e-01,  5.28943618e-01,  2.46147789e-01,\n",
       "        8.63519658e-01, -8.04753741e-01,  2.34664703e+00, -1.27916111e+00,\n",
       "       -3.65551090e-01,  9.38092541e-01,  2.96733172e-01,  8.29986159e-01,\n",
       "       -4.96102334e-01, -7.48049827e-02,  1.22319836e-02,  1.56925961e+00,\n",
       "        6.90429024e-01,  7.96672108e-01, -6.57926093e-01,  9.68882639e-01,\n",
       "        2.25581664e-01,  1.38914532e+00,  2.01406015e+00, -3.06765776e-01,\n",
       "       -4.06303130e-01, -8.64044991e-01, -1.43579512e-01, -3.82025449e-01,\n",
       "        3.59504400e-01, -1.44566817e-01, -3.61599281e-01,  1.06458514e+00,\n",
       "       -9.37880231e-01,  4.33107953e-01, -4.05941727e-01,  7.24368505e-01,\n",
       "        1.38526155e+00, -3.03098253e-01,  4.41032907e-01,  1.78792866e-01,\n",
       "       -7.99422400e-01,  2.40787510e-01,  2.89120505e-01,  4.12870820e-01,\n",
       "       -1.98398897e-01,  9.41923003e-02, -1.14761094e+00, -3.58114075e-01])"
      ]
     },
     "execution_count": 121,
     "metadata": {},
     "output_type": "execute_result"
    }
   ],
   "source": [
    "x"
   ]
  },
  {
   "cell_type": "code",
   "execution_count": 122,
   "metadata": {},
   "outputs": [
    {
     "name": "stdout",
     "output_type": "stream",
     "text": [
      "It takes the array with your data and the number (or edges) of bins and returns two NumPy arrays:\n",
      "\n",
      "hist contains the frequency or the number of items corresponding to each bin.\n",
      "bin_edges contains the edges or bounds of the bin.\n"
     ]
    }
   ],
   "source": [
    "print(\"\"\"It takes the array with your data and the number (or edges) of bins and returns two NumPy arrays:\n",
    "\n",
    "hist contains the frequency or the number of items corresponding to each bin.\n",
    "bin_edges contains the edges or bounds of the bin.\"\"\")"
   ]
  },
  {
   "cell_type": "code",
   "execution_count": 123,
   "metadata": {},
   "outputs": [
    {
     "data": {
      "image/png": "[encoded data removed]",
      "text/plain": [
       "<Figure size 432x288 with 1 Axes>"
      ]
     },
     "metadata": {},
     "output_type": "display_data"
    }
   ],
   "source": [
    "fix,ax = plt.subplots()\n",
    "ax.hist(x,bin_edges,cumulative=True)\n",
    "ax.set_xlabel('X')\n",
    "ax.set_ylabel('Frequency')\n",
    "plt.show()"
   ]
  },
  {
   "cell_type": "code",
   "execution_count": 124,
   "metadata": {},
   "outputs": [
    {
     "name": "stdout",
     "output_type": "stream",
     "text": [
      "Pie charts represent data with a small number of labels and given relative frequencies. They work well even with the labels that can’t be ordered (like nominal data). A pie chart is a circle divided into multiple slices. Each slice corresponds to a single distinct label from the dataset and has an area proportional to the relative frequency associated with that label.\n"
     ]
    }
   ],
   "source": [
    "# Pie Charts\n",
    "print(\"\"\"Pie charts represent data with a small number of labels and given relative frequencies. They work well even with the labels that can’t be ordered (like nominal data). A pie chart is a circle divided into multiple slices. Each slice corresponds to a single distinct label from the dataset and has an area proportional to the relative frequency associated with that label.\"\"\")"
   ]
  },
  {
   "cell_type": "code",
   "execution_count": 125,
   "metadata": {},
   "outputs": [],
   "source": [
    "x,y,z = 128,256,1024"
   ]
  },
  {
   "cell_type": "code",
   "execution_count": 127,
   "metadata": {},
   "outputs": [
    {
     "data": {
      "image/png": "[encoded data removed]",
      "text/plain": [
       "<Figure size 432x288 with 1 Axes>"
      ]
     },
     "metadata": {},
     "output_type": "display_data"
    }
   ],
   "source": [
    "fix,ax = plt.subplots()\n",
    "ax.pie((x,y,z),labels=('x','y','z'),autopct='%1.1f%%')\n",
    "plt.show()"
   ]
  },
  {
   "cell_type": "code",
   "execution_count": 128,
   "metadata": {},
   "outputs": [
    {
     "name": "stdout",
     "output_type": "stream",
     "text": [
      "Bar charts also illustrate data that correspond to given labels or discrete numeric values. They can show the pairs of data from two datasets. Items of one set are the labels, while the corresponding items of the other are their frequencies. Optionally, they can show the errors related to the frequencies, as well.\n"
     ]
    }
   ],
   "source": [
    "#Bar Chart\n",
    "print(\"\"\"Bar charts also illustrate data that correspond to given labels or discrete numeric values. They can show the pairs of data from two datasets. Items of one set are the labels, while the corresponding items of the other are their frequencies. Optionally, they can show the errors related to the frequencies, as well.\"\"\")"
   ]
  },
  {
   "cell_type": "code",
   "execution_count": 130,
   "metadata": {},
   "outputs": [],
   "source": [
    "x = np.arange(21)\n",
    "y = np.random.randint(21,size=21)\n",
    "err = np.random.randn(21)"
   ]
  },
  {
   "cell_type": "code",
   "execution_count": 131,
   "metadata": {},
   "outputs": [
    {
     "name": "stdout",
     "output_type": "stream",
     "text": [
      "You use np.arange() to get x, or the array of consecutive integers from 0 to 20. You’ll use this to represent the labels. y is an array of uniformly distributed random integers, also between 0 and 20. This array will represent the frequencies. err contains normally distributed floating-point numbers, which are the errors. These values are optional.\n"
     ]
    }
   ],
   "source": [
    "print(\"\"\"You use np.arange() to get x, or the array of consecutive integers from 0 to 20. You’ll use this to represent the labels. y is an array of uniformly distributed random integers, also between 0 and 20. This array will represent the frequencies. err contains normally distributed floating-point numbers, which are the errors. These values are optional.\"\"\")"
   ]
  },
  {
   "cell_type": "code",
   "execution_count": 132,
   "metadata": {},
   "outputs": [
    {
     "data": {
      "image/png": "[encoded data removed]",
      "text/plain": [
       "<Figure size 432x288 with 1 Axes>"
      ]
     },
     "metadata": {},
     "output_type": "display_data"
    }
   ],
   "source": [
    "fig,ax = plt.subplots()\n",
    "ax.bar(x,y,yerr=err)\n",
    "ax.set_xlabel('x')\n",
    "ax.set_ylabel('y')\n",
    "plt.show()"
   ]
  },
  {
   "cell_type": "code",
   "execution_count": 133,
   "metadata": {},
   "outputs": [
    {
     "name": "stdout",
     "output_type": "stream",
     "text": [
      "The heights of the red bars correspond to the frequencies y, while the lengths of the black lines show the errors err. If you don’t want to include the errors, then omit the parameter yerr of .bar().\n"
     ]
    }
   ],
   "source": [
    "print(\"\"\"The heights of the red bars correspond to the frequencies y, while the lengths of the black lines show the errors err. If you don’t want to include the errors, then omit the parameter yerr of .bar().\"\"\")"
   ]
  },
  {
   "cell_type": "code",
   "execution_count": 135,
   "metadata": {},
   "outputs": [
    {
     "name": "stdout",
     "output_type": "stream",
     "text": [
      "The x-y plot or scatter plot represents the pairs of data from two datasets. The horizontal x-axis shows the values from the set x, while the vertical y-axis shows the corresponding values from the set y. You can optionally include the regression line and the correlation coefficient. Let’s generate two datasets and perform linear regression with\n"
     ]
    }
   ],
   "source": [
    "#X,Y Plots or Scatter plot\n",
    "print(\"\"\"The x-y plot or scatter plot represents the pairs of data from two datasets. The horizontal x-axis shows the values from the set x, while the vertical y-axis shows the corresponding values from the set y. You can optionally include the regression line and the correlation coefficient. Let’s generate two datasets and perform linear regression with\"\"\")"
   ]
  },
  {
   "cell_type": "code",
   "execution_count": 138,
   "metadata": {},
   "outputs": [],
   "source": [
    "x = np.arange(21)\n",
    "y = 5 + 2 * x + 2 * np.random.randn(21)\n",
    "slope, intercept, r, *__ = scipy.stats.linregress(x, y)\n",
    "line = f'Regression line: y={intercept:.2f}+{slope:.2f}x, r={r:.2f}'"
   ]
  },
  {
   "cell_type": "code",
   "execution_count": 139,
   "metadata": {},
   "outputs": [
    {
     "data": {
      "image/png": "[encoded data removed]",
      "text/plain": [
       "<Figure size 432x288 with 1 Axes>"
      ]
     },
     "metadata": {},
     "output_type": "display_data"
    }
   ],
   "source": [
    "fig, ax = plt.subplots()\n",
    "ax.plot(x, y, linewidth=0, marker='s', label='Data points')\n",
    "ax.plot(x, intercept + slope * x, label=line)\n",
    "ax.set_xlabel('x')\n",
    "ax.set_ylabel('y')\n",
    "ax.legend(facecolor='white')\n",
    "plt.show()"
   ]
  },
  {
   "cell_type": "code",
   "execution_count": 140,
   "metadata": {},
   "outputs": [
    {
     "name": "stdout",
     "output_type": "stream",
     "text": [
      "A heatmap can be used to visually show a matrix. The colors represent the numbers or elements of the matrix. Heatmaps are particularly useful for illustrating the covariance and correlation matrices. You can create the heatmap for a covariance matrix with .imshow():\n"
     ]
    }
   ],
   "source": [
    "#Heatmaps\n",
    "print(\"\"\"A heatmap can be used to visually show a matrix. The colors represent the numbers or elements of the matrix. Heatmaps are particularly useful for illustrating the covariance and correlation matrices. You can create the heatmap for a covariance matrix with .imshow():\"\"\")"
   ]
  },
  {
   "cell_type": "code",
   "execution_count": 141,
   "metadata": {},
   "outputs": [
    {
     "data": {
      "image/png": "[encoded data removed]",
      "text/plain": [
       "<Figure size 432x288 with 1 Axes>"
      ]
     },
     "metadata": {},
     "output_type": "display_data"
    }
   ],
   "source": [
    "matrix = np.cov(x, y).round(decimals=2)\n",
    "fig, ax = plt.subplots()\n",
    "ax.imshow(matrix)\n",
    "ax.grid(False)\n",
    "ax.xaxis.set(ticks=(0, 1), ticklabels=('x', 'y'))\n",
    "ax.yaxis.set(ticks=(0, 1), ticklabels=('x', 'y'))\n",
    "ax.set_ylim(1.5, -0.5)\n",
    "for i in range(2):\n",
    "    for j in range(2):\n",
    "        ax.text(j, i, matrix[i, j], ha='center', va='center', color='w')\n",
    "plt.show()"
   ]
  },
  {
   "cell_type": "code",
   "execution_count": 142,
   "metadata": {},
   "outputs": [
    {
     "data": {
      "image/png": "[encoded data removed]",
      "text/plain": [
       "<Figure size 432x288 with 1 Axes>"
      ]
     },
     "metadata": {},
     "output_type": "display_data"
    }
   ],
   "source": [
    "matrix = np.corrcoef(x, y).round(decimals=2)\n",
    "fig, ax = plt.subplots()\n",
    "ax.imshow(matrix)\n",
    "ax.grid(False)\n",
    "ax.xaxis.set(ticks=(0, 1), ticklabels=('x', 'y'))\n",
    "ax.yaxis.set(ticks=(0, 1), ticklabels=('x', 'y'))\n",
    "ax.set_ylim(1.5, -0.5)\n",
    "for i in range(2):\n",
    "    for j in range(2):\n",
    "        ax.text(j, i, matrix[i, j], ha='center', va='center', color='w')\n",
    "plt.show()"
   ]
  },
  {
   "cell_type": "code",
   "execution_count": null,
   "metadata": {},
   "outputs": [],
   "source": []
  }
 ],
 "metadata": {
  "kernelspec": {
   "display_name": "Python 3",
   "language": "python",
   "name": "python3"
  },
  "language_info": {
   "codemirror_mode": {
    "name": "ipython",
    "version": 3
   },
   "file_extension": ".py",
   "mimetype": "text/x-python",
   "name": "python",
   "nbconvert_exporter": "python",
   "pygments_lexer": "ipython3",
   "version": "3.7.3"
  }
 },
 "nbformat": 4,
 "nbformat_minor": 2
}
